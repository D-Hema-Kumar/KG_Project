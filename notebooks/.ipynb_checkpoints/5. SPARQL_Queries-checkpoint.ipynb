{
 "cells": [
  {
   "cell_type": "code",
   "execution_count": 1,
   "metadata": {},
   "outputs": [],
   "source": [
    "from rdflib import Graph, URIRef, Literal, BNode, Namespace\n",
    "import re"
   ]
  },
  {
   "cell_type": "code",
   "execution_count": 2,
   "metadata": {},
   "outputs": [
    {
     "data": {
      "application/javascript": [
       "\n",
       "    if (typeof IPython !== \"undefined\") {\n",
       "        IPython.CodeCell.options_default.highlight_modes['application/sparql-query'] = {'reg':[/^%%rdf sparql/]};\n",
       "        IPython.CodeCell.options_default.highlight_modes['text/turtle'] = {'reg':[/^%%rdf turtle/, /^%%rdf shex/]};\n",
       "        IPython.CodeCell.options_default.highlight_modes['application/ld+json'] = {'reg':[/^%%rdf json-ld/]};\n",
       "        IPython.notebook.get_cells().map(function(cell){ if (cell.cell_type == 'code'){ cell.auto_highlight(); } });\n",
       "    }\n",
       "    "
      ]
     },
     "metadata": {},
     "output_type": "display_data"
    }
   ],
   "source": [
    "%reload_ext jupyter-rdfify"
   ]
  },
  {
   "cell_type": "markdown",
   "metadata": {},
   "source": [
    "## 1. Upload KG"
   ]
  },
  {
   "cell_type": "code",
   "execution_count": 3,
   "metadata": {},
   "outputs": [
    {
     "data": {
      "text/plain": [
       "<Graph identifier=Ndb2d615e63864d26a38f20badb72d020 (<class 'rdflib.graph.Graph'>)>"
      ]
     },
     "execution_count": 3,
     "metadata": {},
     "output_type": "execute_result"
    }
   ],
   "source": [
    "g = Graph()\n",
    "g.parse('../data/kg/mmds_courses_final_kg.ttl')"
   ]
  },
  {
   "cell_type": "code",
   "execution_count": 4,
   "metadata": {},
   "outputs": [],
   "source": [
    "s = g.serialize(format='ttl')\n",
    "#print(s)"
   ]
  },
  {
   "cell_type": "markdown",
   "metadata": {},
   "source": [
    "## 2. SPARQL Queries"
   ]
  },
  {
   "cell_type": "markdown",
   "metadata": {},
   "source": [
    "What are the modules of MMDS program?"
   ]
  },
  {
   "cell_type": "code",
   "execution_count": 5,
   "metadata": {},
   "outputs": [
    {
     "name": "stdout",
     "output_type": "stream",
     "text": [
      "Responsible Data Science\n",
      "Fundamentals\n",
      "Data Management\n",
      "Data Analytics\n"
     ]
    }
   ],
   "source": [
    "modules_query = \"\"\"\n",
    "SELECT ?module_name\n",
    "WHERE {\n",
    "    ?module prop:isModuleOf  <https://www.uni-mannheim.de/en/academics/programs/mannheim-master-in-data-science/> ;\n",
    "            prop:moduleName ?module_name .\n",
    "}\"\"\"\n",
    "\n",
    "query = g.query(modules_query)\n",
    "for row in query:\n",
    "    print(f\"{row.module_name}\")"
   ]
  },
  {
   "cell_type": "markdown",
   "metadata": {},
   "source": [
    "What are the courses and modules offered in MMDS?"
   ]
  },
  {
   "cell_type": "code",
   "execution_count": 6,
   "metadata": {
    "scrolled": true
   },
   "outputs": [
    {
     "name": "stdout",
     "output_type": "stream",
     "text": [
      "Responsible Data Science - Data Security and Privacy\n",
      "Responsible Data Science - AI and Data Science in Fiction and Society\n",
      "Fundamentals - Programming Course\n",
      "Fundamentals - Database Technology\n",
      "Fundamentals - Python for Data Scientists\n",
      "Data Management - Additional Course – Data Management\n",
      "Data Management - Advanced Software Engineering\n",
      "Data Management - Database Systems II\n",
      "Data Management - Algorithmics\n",
      "Data Management - Large Scale Data Management\n",
      "Data Management - Model-driven Development\n",
      "Data Management - Types and Programming Languages\n",
      "Data Management - Query Optimization\n",
      "Data Management - Knowledge Graphs\n",
      "Data Management - Information Retrieval and Web Search\n",
      "Data Management - Web Data Integration\n",
      "Data Management - Web Data Integration Project\n",
      "Data Management - Information Retrieval Project\n",
      "Data Management - Management of Enterprise Systems\n",
      "Data Management - Public Blockchains\n",
      "Data Analytics - Additional Course – Data Analytics Methods\n",
      "Data Analytics - Computational Analysis of Communication\n",
      "Data Analytics - Data Mining I\n",
      "Data Analytics - Decision Support\n",
      "Data Analytics - Text Analytics\n",
      "Data Analytics - Web Mining\n",
      "Data Analytics - Data Mining II\n",
      "Data Analytics - Machine Learning\n",
      "Data Analytics - Network Analysis replaced by IS 622 (FSS)\n",
      "Data Analytics - Deep Learning\n",
      "Data Analytics - Web Mining Project\n",
      "Data Analytics - Advanced Process Mining\n",
      "Data Analytics - Artificial Intelligence Applications in Industry\n",
      "Data Analytics - Advanced Methods in Text Analytics\n",
      "Data Analytics - Network Science**\n",
      "Data Analytics - Stochastic Calculus\n",
      "Data Analytics - Mathematics and Information\n",
      "Data Analytics - Algebraische Statistik\n",
      "Data Analytics - Optimierung\n",
      "Data Analytics - Computational Finance\n",
      "Data Analytics - Nichtlineare Optimierung\n",
      "Data Analytics - Markov Processes\n",
      "Data Analytics - Marketing Analytics\n",
      "Data Analytics - Customers, Markets and Firm Strategy\n"
     ]
    }
   ],
   "source": [
    "modules_courses_query = \"\"\"\n",
    "SELECT ?module_n ?course_n\n",
    "WHERE {\n",
    "    ?module prop:isModuleOf <https://www.uni-mannheim.de/en/academics/programs/mannheim-master-in-data-science/> ;\n",
    "            prop:moduleName ?module_n .\n",
    "    ?course prop:isCourseOf  ?module ;\n",
    "            prop:courseName ?course_n .\n",
    "    \n",
    "}\"\"\"\n",
    "\n",
    "query = g.query(modules_courses_query)\n",
    "for row in query:\n",
    "    print(f\"{row.module_n} - {row.course_n}\")\n",
    "    "
   ]
  },
  {
   "cell_type": "markdown",
   "metadata": {},
   "source": [
    "What are the courses in Data Management for MMDS students?"
   ]
  },
  {
   "cell_type": "code",
   "execution_count": 7,
   "metadata": {},
   "outputs": [
    {
     "name": "stdout",
     "output_type": "stream",
     "text": [
      "Additional Course – Data Management\n",
      "Advanced Software Engineering\n",
      "Database Systems II\n",
      "Algorithmics\n",
      "Large Scale Data Management\n",
      "Model-driven Development\n",
      "Types and Programming Languages\n",
      "Query Optimization\n",
      "Knowledge Graphs\n",
      "Information Retrieval and Web Search\n",
      "Web Data Integration\n",
      "Web Data Integration Project\n",
      "Information Retrieval Project\n",
      "Management of Enterprise Systems\n",
      "Public Blockchains\n"
     ]
    }
   ],
   "source": [
    "dm_query = \"\"\"\n",
    "SELECT ?course_name\n",
    "WHERE {\n",
    "    ?course prop:isCourseOf  <https://www.uni-mannheim.de/en/academics/programs/mannheim-master-in-data-science/modules/Data_Management> ;\n",
    "            prop:courseName ?course_name .\n",
    "}\"\"\"\n",
    "\n",
    "query = g.query(dm_query)\n",
    "for row in query:\n",
    "    print(f\"{row.course_name}\")\n"
   ]
  },
  {
   "cell_type": "markdown",
   "metadata": {},
   "source": [
    "Which Data Analytics courses are taught in German?"
   ]
  },
  {
   "cell_type": "code",
   "execution_count": 8,
   "metadata": {},
   "outputs": [
    {
     "name": "stdout",
     "output_type": "stream",
     "text": [
      "Mathematics and Information - G\n",
      "Algebraische Statistik - G/E\n",
      "Optimierung - G\n",
      "Computational Finance - G/E\n",
      "Nichtlineare Optimierung - G/E\n"
     ]
    }
   ],
   "source": [
    "da_courses_german_query = \"\"\"\n",
    "SELECT ?course_name ?lang\n",
    "WHERE {\n",
    "    ?course prop:isCourseOf  <https://www.uni-mannheim.de/en/academics/programs/mannheim-master-in-data-science/modules/Data_Analytics> ;\n",
    "            prop:courseName ?course_name ;\n",
    "            prop:language ?lang .\n",
    "    FILTER ( regex(?lang,\"G\") )\n",
    "    \n",
    "}\"\"\"\n",
    "\n",
    "query = g.query(da_courses_german_query)\n",
    "for row in query:\n",
    "    print(f\"{row.course_name} - {row.lang}\")\n",
    "    "
   ]
  },
  {
   "cell_type": "markdown",
   "metadata": {},
   "source": [
    "Which are the courses that have less than 6 ECTS?"
   ]
  },
  {
   "cell_type": "code",
   "execution_count": 9,
   "metadata": {},
   "outputs": [
    {
     "name": "stdout",
     "output_type": "stream",
     "text": [
      "AI and Data Science in Fiction and Society - 4\n",
      "Information Retrieval and Web Search - 3\n",
      "Web Data Integration - 3\n",
      "Web Data Integration Project - 3\n",
      "Information Retrieval Project - 3\n",
      "Public Blockchains - 3\n",
      "Web Mining - 3\n",
      "Web Mining Project - 3\n",
      "Stochastic Calculus - 5\n",
      "Markov Processes - 4\n"
     ]
    }
   ],
   "source": [
    "courses_ects_query = \"\"\"\n",
    "SELECT ?course_name ?ects\n",
    "WHERE {\n",
    "    ?module prop:isModuleOf  <https://www.uni-mannheim.de/en/academics/programs/mannheim-master-in-data-science/> .\n",
    "    ?course prop:isCourseOf ?module ;\n",
    "            prop:courseName ?course_name ;\n",
    "            prop:ects ?ects .\n",
    "    FILTER ( ?ects < 6 )\n",
    "      \n",
    "}\"\"\"\n",
    "\n",
    "query = g.query(courses_ects_query)\n",
    "for row in query:\n",
    "    print(f\"{row.course_name} - {row.ects}\")"
   ]
  },
  {
   "cell_type": "markdown",
   "metadata": {},
   "source": [
    "Which courses have an oral exam?"
   ]
  },
  {
   "cell_type": "code",
   "execution_count": 10,
   "metadata": {},
   "outputs": [
    {
     "name": "stdout",
     "output_type": "stream",
     "text": [
      "Database Technology - written or oral examination\n",
      "Query Optimization - oral exam\n",
      "Deep Learning - oral examination\n"
     ]
    }
   ],
   "source": [
    "courses_form_assessment_query = \"\"\"\n",
    "SELECT ?course_name ?assessment\n",
    "WHERE {\n",
    "    ?module prop:isModuleOf  <https://www.uni-mannheim.de/en/academics/programs/mannheim-master-in-data-science/> .\n",
    "    ?course prop:isCourseOf ?module ;\n",
    "            prop:courseName ?course_name ;\n",
    "            prop:form_of_assessment ?assessment .\n",
    "    FILTER ( regex(?assessment,\"oral exam\") )\n",
    "      \n",
    "}\"\"\"\n",
    "\n",
    "query = g.query(courses_form_assessment_query)\n",
    "for row in query:\n",
    "    print(f\"{row.course_name} - {row.assessment}\")\n",
    "    "
   ]
  },
  {
   "cell_type": "markdown",
   "metadata": {},
   "source": [
    "Which courses have an examination of 60 minutes?"
   ]
  },
  {
   "cell_type": "code",
   "execution_count": 11,
   "metadata": {},
   "outputs": [
    {
     "name": "stdout",
     "output_type": "stream",
     "text": [
      "Knowledge Graphs - 60 minutes\n",
      "Web Data Integration - 60 minutes\n",
      "Data Mining I - 60 minutes (written examination)\n",
      "Web Mining - 60 minutes\n",
      "Data Mining II - 60 minutes\n",
      "Advanced Process Mining - the exam will take 60 minutes, the assignment will be spread over various weeks with a single deadline towards the end of the semester.\n"
     ]
    }
   ],
   "source": [
    "courses_dur_assessment_query = \"\"\"\n",
    "SELECT ?course_name ?assessment\n",
    "WHERE {\n",
    "    ?module prop:isModuleOf  <https://www.uni-mannheim.de/en/academics/programs/mannheim-master-in-data-science/> .\n",
    "    ?course prop:isCourseOf ?module ;\n",
    "            prop:courseName ?course_name ;\n",
    "            prop:duration_of_assessment ?assessment .\n",
    "    FILTER ( regex(?assessment,\"60\") )\n",
    "      \n",
    "}\"\"\"\n",
    "\n",
    "query = g.query(courses_dur_assessment_query)\n",
    "for row in query:\n",
    "    print(f\"{row.course_name} - {row.assessment}\")\n",
    "    "
   ]
  },
  {
   "cell_type": "markdown",
   "metadata": {},
   "source": [
    "Which courses are not recommended for a freshman?"
   ]
  },
  {
   "cell_type": "code",
   "execution_count": 12,
   "metadata": {},
   "outputs": [
    {
     "name": "stdout",
     "output_type": "stream",
     "text": [
      "AI and Data Science in Fiction and Society recommended for 3 semester\n",
      "Additional Course – Data Management recommended for 2, 3, 4 semester\n",
      "Additional Course – Data Analytics Methods recommended for 2, 3, 4 semester\n",
      "Network Analysis replaced by IS 622 (FSS) recommended for 2, 4 semester\n",
      "Deep Learning recommended for 2, 3 semester\n",
      "Advanced Process Mining recommended for 2 semester\n",
      "Artificial Intelligence Applications in Industry recommended for 2, 4 semester\n"
     ]
    }
   ],
   "source": [
    "courses_sm_query = \"\"\"\n",
    "SELECT ?course_name ?sm\n",
    "WHERE {\n",
    "    ?module prop:isModuleOf  <https://www.uni-mannheim.de/en/academics/programs/mannheim-master-in-data-science/> .\n",
    "    ?course prop:isCourseOf ?module ;\n",
    "            prop:courseName ?course_name ;\n",
    "            prop:semester ?sm .\n",
    "    FILTER ( regex(?sm,\"^((?!1).)*$\")  )\n",
    "      \n",
    "}\"\"\"\n",
    "\n",
    "query = g.query(courses_sm_query)\n",
    "for row in query:\n",
    "    sm_value = ', '.join([s for s in re.findall(r'\\d+',row.sm)])\n",
    "    print(f\"{row.course_name} recommended for {sm_value} semester\")\n",
    "    "
   ]
  },
  {
   "cell_type": "markdown",
   "metadata": {},
   "source": [
    "What courses are offered on FSS?"
   ]
  },
  {
   "cell_type": "code",
   "execution_count": 13,
   "metadata": {
    "scrolled": true
   },
   "outputs": [
    {
     "name": "stdout",
     "output_type": "stream",
     "text": [
      "Data Security and Privacy - FSS\n",
      "Database Technology - FSS\n",
      "Python for Data Scientists - FSS\n",
      "Additional Course – Data Management - HWS/FSS\n",
      "Database Systems II - FSS\n",
      "Algorithmics - FSS/HWS\n",
      "Query Optimization - FSS\n",
      "Public Blockchains - FSS\n",
      "Additional Course – Data Analytics Methods - HWS/FSS\n",
      "Data Mining I - HWS/FSS\n",
      "Web Mining - FSS\n",
      "Data Mining II - FSS\n",
      "Deep Learning - FSS\n",
      "Web Mining Project - FSS\n",
      "Advanced Process Mining - FSS\n",
      "Artificial Intelligence Applications in Industry - FSS\n",
      "Advanced Methods in Text Analytics - FSS\n",
      "Network Science** - FSS\n",
      "Computational Finance - FSS\n",
      "Nichtlineare Optimierung - FSS\n",
      "Markov Processes - FSS\n",
      "Marketing Analytics - FSS\n",
      "Customers, Markets and Firm Strategy - FSS\n"
     ]
    }
   ],
   "source": [
    "courses_off_query = \"\"\"\n",
    "SELECT ?course_name ?off\n",
    "WHERE {\n",
    "    ?module prop:isModuleOf  <https://www.uni-mannheim.de/en/academics/programs/mannheim-master-in-data-science/> .\n",
    "    ?course prop:isCourseOf ?module ;\n",
    "            prop:courseName ?course_name ;\n",
    "            prop:offering ?off .\n",
    "    FILTER ( regex(?off,\"FSS\") )\n",
    "      \n",
    "}\"\"\"\n",
    "\n",
    "query = g.query(courses_off_query)\n",
    "for row in query:\n",
    "    print(f\"{row.course_name} - {row.off}\")\n",
    "    "
   ]
  },
  {
   "cell_type": "markdown",
   "metadata": {},
   "source": [
    "Which courses are related to machine learning?"
   ]
  },
  {
   "cell_type": "code",
   "execution_count": 14,
   "metadata": {},
   "outputs": [
    {
     "name": "stdout",
     "output_type": "stream",
     "text": [
      "Python for Data Scientists\n",
      "Knowledge Graphs\n",
      "Computational Analysis of Communication\n",
      "Machine Learning\n",
      "Deep Learning\n",
      "Artificial Intelligence Applications in Industry\n"
     ]
    }
   ],
   "source": [
    "courses_ml_query = \"\"\"\n",
    "SELECT ?course_name\n",
    "WHERE {\n",
    "    ?module prop:isModuleOf  <https://www.uni-mannheim.de/en/academics/programs/mannheim-master-in-data-science/> .\n",
    "    ?course prop:isCourseOf ?module ;\n",
    "            prop:courseName ?course_name ;\n",
    "            prop:aim_of_module ?aim ;\n",
    "            prop:prerequisites ?pre .\n",
    "    FILTER ( regex(?aim,\"machine learning\") || regex(?pre,\"machine learning\") )\n",
    "      \n",
    "}\"\"\"\n",
    "\n",
    "query = g.query(courses_ml_query)\n",
    "for row in query:\n",
    "    print(f\"{row.course_name}\")\n",
    "    "
   ]
  },
  {
   "cell_type": "markdown",
   "metadata": {},
   "source": [
    "Which courses use graphs or networks?"
   ]
  },
  {
   "cell_type": "code",
   "execution_count": 15,
   "metadata": {},
   "outputs": [
    {
     "name": "stdout",
     "output_type": "stream",
     "text": [
      "Knowledge Graphs\n",
      "Network Analysis replaced by IS 622 (FSS)\n",
      "Deep Learning\n"
     ]
    }
   ],
   "source": [
    "courses_graphs_query = \"\"\"\n",
    "SELECT ?course_name\n",
    "WHERE {\n",
    "    ?module prop:isModuleOf  <https://www.uni-mannheim.de/en/academics/programs/mannheim-master-in-data-science/> .\n",
    "    ?course prop:isCourseOf ?module ;\n",
    "            prop:courseName ?course_name ;\n",
    "            prop:aim_of_module ?aim ;\n",
    "            prop:prerequisites ?pre .\n",
    "    FILTER ( regex(?aim,\"graphs\") || regex(?pre,\"graphs\") || regex(?aim,\"networks\") || regex(?pre,\"networks\")  )\n",
    "      \n",
    "}\"\"\"\n",
    "\n",
    "query = g.query(courses_graphs_query)\n",
    "for row in query:\n",
    "    print(f\"{row.course_name}\")\n",
    "    "
   ]
  },
  {
   "cell_type": "markdown",
   "metadata": {},
   "source": [
    "Which courses are about NLP?"
   ]
  },
  {
   "cell_type": "code",
   "execution_count": 16,
   "metadata": {},
   "outputs": [
    {
     "name": "stdout",
     "output_type": "stream",
     "text": [
      "Text Analytics\n",
      "Advanced Methods in Text Analytics\n"
     ]
    }
   ],
   "source": [
    "courses_nlp_query = \"\"\"\n",
    "SELECT ?course_name\n",
    "WHERE {\n",
    "    ?module prop:isModuleOf  <https://www.uni-mannheim.de/en/academics/programs/mannheim-master-in-data-science/> .\n",
    "    ?course prop:isCourseOf ?module ;\n",
    "            prop:courseName ?course_name ;\n",
    "            prop:aim_of_module ?aim ;\n",
    "            prop:prerequisites ?pre .\n",
    "    FILTER ( regex(?aim,\"nlp\") || regex(?pre,\"nlp\") )\n",
    "      \n",
    "}\"\"\"\n",
    "\n",
    "query = g.query(courses_nlp_query)\n",
    "for row in query:\n",
    "    print(f\"{row.course_name}\")\n",
    "    "
   ]
  },
  {
   "cell_type": "markdown",
   "metadata": {},
   "source": [
    "Which courses have as prerequisite a background in data mining?"
   ]
  },
  {
   "cell_type": "code",
   "execution_count": 17,
   "metadata": {},
   "outputs": [
    {
     "name": "stdout",
     "output_type": "stream",
     "text": [
      "Data Security and Privacy\n",
      "Web Mining\n",
      "Data Mining II\n",
      "Machine Learning\n"
     ]
    }
   ],
   "source": [
    "courses_pre_query = \"\"\"\n",
    "SELECT ?course_name ?pre\n",
    "WHERE {\n",
    "    ?module prop:isModuleOf  <https://www.uni-mannheim.de/en/academics/programs/mannheim-master-in-data-science/> .\n",
    "    ?course prop:isCourseOf ?module ;\n",
    "            prop:courseName ?course_name ;\n",
    "            prop:prerequisites ?pre .\n",
    "    FILTER ( regex(?pre,\"data mining\") )\n",
    "      \n",
    "}\"\"\"\n",
    "\n",
    "query = g.query(courses_pre_query)\n",
    "for row in query:\n",
    "    print(f\"{row.course_name}\")\n",
    "    "
   ]
  },
  {
   "cell_type": "markdown",
   "metadata": {},
   "source": [
    "What is the mail of the professors that teach courses related to DL?"
   ]
  },
  {
   "cell_type": "code",
   "execution_count": 18,
   "metadata": {},
   "outputs": [
    {
     "name": "stdout",
     "output_type": "stream",
     "text": [
      "Deep Learning given by Rainer_Gemulla, email: rgemulla@uni-mannheim.de\n",
      "Advanced Methods in Text Analytics given by Simone_Ponzetto, email: simone@informatik.uni-mannheim.de\n"
     ]
    }
   ],
   "source": [
    "course_prof_query = \"\"\"\n",
    "SELECT DISTINCT ?course_n ?prof_name ?prof_mail\n",
    "WHERE {\n",
    "    ?module prop:isModuleOf <https://www.uni-mannheim.de/en/academics/programs/mannheim-master-in-data-science/> .\n",
    "    ?course prop:isCourseOf  <https://www.uni-mannheim.de/en/academics/programs/mannheim-master-in-data-science/modules/Data_Analytics> ;\n",
    "            prop:courseName ?course_n ;\n",
    "            prop:lecturer ?professor ;           \n",
    "            prop:aim_of_module ?aim ;\n",
    "            prop:prerequisites ?pre .      \n",
    "    ?professor prop:professorName ?prof_name ;\n",
    "                ns1:sameAs ?prof_dws .\n",
    "    ?prof_dws a unima:professor .\n",
    "    OPTIONAL {?prof_dws foaf:mbox ?prof_mail }\n",
    "    FILTER ( regex(?aim,\"deep learning\") || regex(?pre,\"deep learning\") )\n",
    "    \n",
    "}\"\"\"\n",
    "\n",
    "query = g.query(course_prof_query)\n",
    "for row in query:\n",
    "    print(f\"{row.course_n} given by {row.prof_name}, email: {row.prof_mail}\")\n",
    "    "
   ]
  },
  {
   "cell_type": "markdown",
   "metadata": {},
   "source": [
    "Which professor teaches the most courses?"
   ]
  },
  {
   "cell_type": "code",
   "execution_count": 19,
   "metadata": {},
   "outputs": [
    {
     "name": "stdout",
     "output_type": "stream",
     "text": [
      "Christian_Bizer teachs 5 lectures\n",
      "Heiko_Paulheim teachs 4 lectures\n",
      "Simone_Ponzetto teachs 3 lectures\n",
      "Heiner_Stuckenschmidt teachs 3 lectures\n",
      "LHU teachs 2 lectures\n",
      "Rainer_Gemulla teachs 2 lectures\n",
      "Frederik_Armknecht teachs 1 lectures\n",
      "Ursula_Rost teachs 1 lectures\n",
      "Marcus_Kessel teachs 1 lectures\n",
      "Colin_Atkinson teachs 1 lectures\n",
      "Matthias_Krause teachs 1 lectures\n",
      "Roland_Lei%C3%9Fa teachs 1 lectures\n",
      "Guido_Moerkotte teachs 1 lectures\n",
      "MKW teachs 1 lectures\n",
      "Markus_Strohmaier teachs 1 lectures\n"
     ]
    }
   ],
   "source": [
    "lecturer_courses_query = \"\"\"\n",
    "SELECT DISTINCT ?name (count(?course) as ?count)\n",
    "WHERE {\n",
    "    ?module prop:isModuleOf  <https://www.uni-mannheim.de/en/academics/programs/mannheim-master-in-data-science/> .\n",
    "    ?course prop:isCourseOf ?module ;\n",
    "            prop:lecturer ?professor .\n",
    "    ?professor prop:professorName ?name .\n",
    "}\n",
    "GROUP BY ?professor\n",
    "ORDER BY DESC (?count)\n",
    "\"\"\"\n",
    "\n",
    "query = g.query(lecturer_courses_query)\n",
    "for row in query:\n",
    "    print(f\"{row.name} teachs {row['count']} lectures\")\n",
    "    "
   ]
  },
  {
   "cell_type": "markdown",
   "metadata": {},
   "source": [
    "Where did the professors graduate from?"
   ]
  },
  {
   "cell_type": "code",
   "execution_count": 20,
   "metadata": {},
   "outputs": [
    {
     "name": "stdout",
     "output_type": "stream",
     "text": [
      "Heiner_Stuckenschmidt \t University of Bremen \n",
      "Heiner_Stuckenschmidt \t Vrije Universiteit Amsterdam \n",
      "Rainer_Gemulla \t TU Dresden \n",
      "Simone_Ponzetto \t University of Sunderland \n",
      "Simone_Ponzetto \t Johns Hopkins University \n",
      "Simone_Ponzetto \t University of Stuttgart \n",
      "Simone_Ponzetto \t University of Milan \n",
      "CPU times: user 515 ms, sys: 50.6 ms, total: 566 ms\n",
      "Wall time: 5.69 s\n"
     ]
    }
   ],
   "source": [
    "%%time\n",
    "wiki_uni_query = \"\"\"\n",
    "SELECT DISTINCT ?prof_name ?uni_label\n",
    "WHERE {\n",
    "    \n",
    "    ?professor a courseKG:professor .\n",
    "    ?professor prop:professorName ?prof_name .\n",
    "    ?professor ns1:sameAs ?wikiperson .\n",
    "    SERVICE <https://query.wikidata.org/bigdata/namespace/wdq/sparql> {\n",
    "        ?wikiperson wdt:P69 ?uni .\n",
    "        OPTIONAL {\n",
    "            ?uni rdfs:label ?uni_label .\n",
    "            filter (langMatches(lang(?uni_label),\"EN\"))\n",
    "        }  \n",
    "    } \n",
    "}\n",
    "GROUP BY ?prof_name ?uni\n",
    "\"\"\"\n",
    "    \n",
    "\n",
    "g.bind(\"wdt\", Namespace(\"http://www.wikidata.org/prop/direct/\"))\n",
    "qwikidata = g.query(wiki_uni_query)\n",
    "for row in qwikidata:\n",
    "    print(f\"{row.prof_name} \\t {row.uni_label} \")"
   ]
  },
  {
   "cell_type": "markdown",
   "metadata": {},
   "source": [
    "Which professor had more publications in the last year?\n",
    " - This question would be answered when DBPL provide a proper SPARQL endpoint in the near future. (https://blog.dblp.org/2022/03/02/dblp-in-rdf/)"
   ]
  }
 ],
 "metadata": {
  "kernelspec": {
   "display_name": "Python 3",
   "language": "python",
   "name": "python3"
  },
  "language_info": {
   "codemirror_mode": {
    "name": "ipython",
    "version": 3
   },
   "file_extension": ".py",
   "mimetype": "text/x-python",
   "name": "python",
   "nbconvert_exporter": "python",
   "pygments_lexer": "ipython3",
   "version": "3.8.5"
  }
 },
 "nbformat": 4,
 "nbformat_minor": 5
}
