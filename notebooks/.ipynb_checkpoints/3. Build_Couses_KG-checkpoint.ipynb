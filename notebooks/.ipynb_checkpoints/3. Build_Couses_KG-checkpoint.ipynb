{
 "cells": [
  {
   "cell_type": "code",
   "execution_count": 1,
   "metadata": {},
   "outputs": [],
   "source": [
    "import pandas as pd\n",
    "import numpy as np\n",
    "import re\n",
    "pd.set_option('display.max_rows', 200)\n",
    "pd.set_option('display.max_colwidth', None)\n",
    "\n",
    "import rdflib\n",
    "from urllib.parse import quote\n",
    "from rdflib import Graph, URIRef, Literal, BNode, Namespace\n",
    "from rdflib.namespace import FOAF, RDF, OWL, RDFS, XSD"
   ]
  },
  {
   "cell_type": "markdown",
   "metadata": {},
   "source": [
    "## 1. Upload Data Sources"
   ]
  },
  {
   "cell_type": "markdown",
   "metadata": {},
   "source": [
    "#### MMDS_Courses"
   ]
  },
  {
   "cell_type": "code",
   "execution_count": 2,
   "metadata": {},
   "outputs": [
    {
     "data": {
      "text/html": [
       "<div>\n",
       "<style scoped>\n",
       "    .dataframe tbody tr th:only-of-type {\n",
       "        vertical-align: middle;\n",
       "    }\n",
       "\n",
       "    .dataframe tbody tr th {\n",
       "        vertical-align: top;\n",
       "    }\n",
       "\n",
       "    .dataframe thead th {\n",
       "        text-align: right;\n",
       "    }\n",
       "</style>\n",
       "<table border=\"1\" class=\"dataframe\">\n",
       "  <thead>\n",
       "    <tr style=\"text-align: right;\">\n",
       "      <th></th>\n",
       "      <th>module_code</th>\n",
       "      <th>Name of Module</th>\n",
       "      <th>Offered</th>\n",
       "      <th>Language</th>\n",
       "      <th>ECTS</th>\n",
       "      <th>moduleCategory</th>\n",
       "    </tr>\n",
       "  </thead>\n",
       "  <tbody>\n",
       "    <tr>\n",
       "      <th>0</th>\n",
       "      <td>CS 450</td>\n",
       "      <td>Programming Course</td>\n",
       "      <td>HWS</td>\n",
       "      <td>E</td>\n",
       "      <td>6</td>\n",
       "      <td>Fundamentals</td>\n",
       "    </tr>\n",
       "    <tr>\n",
       "      <th>1</th>\n",
       "      <td>CS 460</td>\n",
       "      <td>Database Technology</td>\n",
       "      <td>FSS</td>\n",
       "      <td>E</td>\n",
       "      <td>6</td>\n",
       "      <td>Fundamentals</td>\n",
       "    </tr>\n",
       "    <tr>\n",
       "      <th>2</th>\n",
       "      <td>CS 470</td>\n",
       "      <td>Python for Data Scientists</td>\n",
       "      <td>FSS</td>\n",
       "      <td>E</td>\n",
       "      <td>6</td>\n",
       "      <td>Fundamentals</td>\n",
       "    </tr>\n",
       "    <tr>\n",
       "      <th>3</th>\n",
       "      <td>NaN</td>\n",
       "      <td>Multivariate Analyses</td>\n",
       "      <td>HWS</td>\n",
       "      <td>E</td>\n",
       "      <td>6</td>\n",
       "      <td>Fundamentals</td>\n",
       "    </tr>\n",
       "    <tr>\n",
       "      <th>4</th>\n",
       "      <td>NaN</td>\n",
       "      <td>Tutorial Multivariate Analyses</td>\n",
       "      <td>HWS</td>\n",
       "      <td>E</td>\n",
       "      <td>2</td>\n",
       "      <td>Fundamentals</td>\n",
       "    </tr>\n",
       "  </tbody>\n",
       "</table>\n",
       "</div>"
      ],
      "text/plain": [
       "  module_code                  Name of Module Offered Language ECTS  \\\n",
       "0      CS 450              Programming Course     HWS        E    6   \n",
       "1      CS 460             Database Technology     FSS        E    6   \n",
       "2      CS 470      Python for Data Scientists     FSS        E    6   \n",
       "3         NaN           Multivariate Analyses     HWS        E    6   \n",
       "4         NaN  Tutorial Multivariate Analyses     HWS        E    2   \n",
       "\n",
       "  moduleCategory  \n",
       "0   Fundamentals  \n",
       "1   Fundamentals  \n",
       "2   Fundamentals  \n",
       "3   Fundamentals  \n",
       "4   Fundamentals  "
      ]
     },
     "metadata": {},
     "output_type": "display_data"
    },
    {
     "name": "stdout",
     "output_type": "stream",
     "text": [
      "Size df_mmds_courses:  48\n"
     ]
    }
   ],
   "source": [
    "df_mmds_courses = pd.read_csv('../data/processed/mmds_courses.csv')\n",
    "display(df_mmds_courses.head())\n",
    "print ('Size df_mmds_courses: ',len(df_mmds_courses))"
   ]
  },
  {
   "cell_type": "code",
   "execution_count": 3,
   "metadata": {},
   "outputs": [
    {
     "data": {
      "text/html": [
       "<div>\n",
       "<style scoped>\n",
       "    .dataframe tbody tr th:only-of-type {\n",
       "        vertical-align: middle;\n",
       "    }\n",
       "\n",
       "    .dataframe tbody tr th {\n",
       "        vertical-align: top;\n",
       "    }\n",
       "\n",
       "    .dataframe thead th {\n",
       "        text-align: right;\n",
       "    }\n",
       "</style>\n",
       "<table border=\"1\" class=\"dataframe\">\n",
       "  <thead>\n",
       "    <tr style=\"text-align: right;\">\n",
       "      <th></th>\n",
       "      <th>module_code</th>\n",
       "      <th>Name of Module</th>\n",
       "      <th>Offered</th>\n",
       "      <th>Language</th>\n",
       "      <th>ECTS</th>\n",
       "      <th>moduleCategory</th>\n",
       "    </tr>\n",
       "  </thead>\n",
       "  <tbody>\n",
       "    <tr>\n",
       "      <th>3</th>\n",
       "      <td>NaN</td>\n",
       "      <td>Multivariate Analyses</td>\n",
       "      <td>HWS</td>\n",
       "      <td>E</td>\n",
       "      <td>6</td>\n",
       "      <td>Fundamentals</td>\n",
       "    </tr>\n",
       "    <tr>\n",
       "      <th>4</th>\n",
       "      <td>NaN</td>\n",
       "      <td>Tutorial Multivariate Analyses</td>\n",
       "      <td>HWS</td>\n",
       "      <td>E</td>\n",
       "      <td>2</td>\n",
       "      <td>Fundamentals</td>\n",
       "    </tr>\n",
       "    <tr>\n",
       "      <th>5</th>\n",
       "      <td>NaN</td>\n",
       "      <td>Empirische Methoden der Politikwissenschaft</td>\n",
       "      <td>HWS</td>\n",
       "      <td>G/E</td>\n",
       "      <td>6</td>\n",
       "      <td>Fundamentals</td>\n",
       "    </tr>\n",
       "    <tr>\n",
       "      <th>46</th>\n",
       "      <td>NaN</td>\n",
       "      <td>Legal and Ethical Aspects of Privacy</td>\n",
       "      <td>HWS</td>\n",
       "      <td>E</td>\n",
       "      <td>3</td>\n",
       "      <td>Responsible Data Science</td>\n",
       "    </tr>\n",
       "  </tbody>\n",
       "</table>\n",
       "</div>"
      ],
      "text/plain": [
       "   module_code                               Name of Module Offered Language  \\\n",
       "3          NaN                        Multivariate Analyses     HWS        E   \n",
       "4          NaN               Tutorial Multivariate Analyses     HWS        E   \n",
       "5          NaN  Empirische Methoden der Politikwissenschaft     HWS      G/E   \n",
       "46         NaN         Legal and Ethical Aspects of Privacy     HWS        E   \n",
       "\n",
       "   ECTS            moduleCategory  \n",
       "3     6              Fundamentals  \n",
       "4     2              Fundamentals  \n",
       "5     6              Fundamentals  \n",
       "46    3  Responsible Data Science  "
      ]
     },
     "execution_count": 3,
     "metadata": {},
     "output_type": "execute_result"
    }
   ],
   "source": [
    "df_mmds_courses[df_mmds_courses.module_code.isna()]"
   ]
  },
  {
   "cell_type": "code",
   "execution_count": 4,
   "metadata": {},
   "outputs": [
    {
     "data": {
      "text/html": [
       "<div>\n",
       "<style scoped>\n",
       "    .dataframe tbody tr th:only-of-type {\n",
       "        vertical-align: middle;\n",
       "    }\n",
       "\n",
       "    .dataframe tbody tr th {\n",
       "        vertical-align: top;\n",
       "    }\n",
       "\n",
       "    .dataframe thead th {\n",
       "        text-align: right;\n",
       "    }\n",
       "</style>\n",
       "<table border=\"1\" class=\"dataframe\">\n",
       "  <thead>\n",
       "    <tr style=\"text-align: right;\">\n",
       "      <th></th>\n",
       "      <th>module</th>\n",
       "      <th>counts</th>\n",
       "    </tr>\n",
       "  </thead>\n",
       "  <tbody>\n",
       "    <tr>\n",
       "      <th>0</th>\n",
       "      <td>Data Analytics</td>\n",
       "      <td>24</td>\n",
       "    </tr>\n",
       "    <tr>\n",
       "      <th>1</th>\n",
       "      <td>Data Management</td>\n",
       "      <td>15</td>\n",
       "    </tr>\n",
       "    <tr>\n",
       "      <th>2</th>\n",
       "      <td>Fundamentals</td>\n",
       "      <td>6</td>\n",
       "    </tr>\n",
       "    <tr>\n",
       "      <th>3</th>\n",
       "      <td>Responsible Data Science</td>\n",
       "      <td>3</td>\n",
       "    </tr>\n",
       "  </tbody>\n",
       "</table>\n",
       "</div>"
      ],
      "text/plain": [
       "                     module  counts\n",
       "0            Data Analytics      24\n",
       "1           Data Management      15\n",
       "2              Fundamentals       6\n",
       "3  Responsible Data Science       3"
      ]
     },
     "execution_count": 4,
     "metadata": {},
     "output_type": "execute_result"
    }
   ],
   "source": [
    "mmds_modules = df_mmds_courses.moduleCategory.value_counts().rename_axis('module').reset_index(name=\"counts\")\n",
    "mmds_modules"
   ]
  },
  {
   "cell_type": "markdown",
   "metadata": {},
   "source": [
    "#### MMDS_Courses_Data"
   ]
  },
  {
   "cell_type": "code",
   "execution_count": 5,
   "metadata": {},
   "outputs": [
    {
     "data": {
      "text/html": [
       "<div>\n",
       "<style scoped>\n",
       "    .dataframe tbody tr th:only-of-type {\n",
       "        vertical-align: middle;\n",
       "    }\n",
       "\n",
       "    .dataframe tbody tr th {\n",
       "        vertical-align: top;\n",
       "    }\n",
       "\n",
       "    .dataframe thead th {\n",
       "        text-align: right;\n",
       "    }\n",
       "</style>\n",
       "<table border=\"1\" class=\"dataframe\">\n",
       "  <thead>\n",
       "    <tr style=\"text-align: right;\">\n",
       "      <th></th>\n",
       "      <th>module_code</th>\n",
       "      <th>module_name</th>\n",
       "      <th>property</th>\n",
       "      <th>property_value</th>\n",
       "    </tr>\n",
       "  </thead>\n",
       "  <tbody>\n",
       "    <tr>\n",
       "      <th>0</th>\n",
       "      <td>AC 651</td>\n",
       "      <td>Additional Course – Data Management</td>\n",
       "      <td>Aim of module</td>\n",
       "      <td>The course falls into the data management area of the MMDS and covers topics related to data management, but is not di- rectly equivalent to any course in the MMDS module cata- logue. The course level equals a regular course in MMDS study program. The module can be taken either at the University of Mannheim or at any other university in Germany or abroad.</td>\n",
       "    </tr>\n",
       "    <tr>\n",
       "      <th>1</th>\n",
       "      <td>AC 651</td>\n",
       "      <td>Additional Course – Data Management</td>\n",
       "      <td>C 651</td>\n",
       "      <td>Additional Course – Data Management</td>\n",
       "    </tr>\n",
       "    <tr>\n",
       "      <th>2</th>\n",
       "      <td>AC 651</td>\n",
       "      <td>Additional Course – Data Management</td>\n",
       "      <td>Duration of module</td>\n",
       "      <td>1 Semester</td>\n",
       "    </tr>\n",
       "    <tr>\n",
       "      <th>3</th>\n",
       "      <td>AC 651</td>\n",
       "      <td>Additional Course – Data Management</td>\n",
       "      <td>ECTS</td>\n",
       "      <td>Max. 18</td>\n",
       "    </tr>\n",
       "    <tr>\n",
       "      <th>4</th>\n",
       "      <td>AC 651</td>\n",
       "      <td>Additional Course – Data Management</td>\n",
       "      <td>Form of module</td>\n",
       "      <td>Depends on course</td>\n",
       "    </tr>\n",
       "  </tbody>\n",
       "</table>\n",
       "</div>"
      ],
      "text/plain": [
       "  module_code                          module_name            property  \\\n",
       "0      AC 651  Additional Course – Data Management       Aim of module   \n",
       "1      AC 651  Additional Course – Data Management               C 651   \n",
       "2      AC 651  Additional Course – Data Management  Duration of module   \n",
       "3      AC 651  Additional Course – Data Management                ECTS   \n",
       "4      AC 651  Additional Course – Data Management      Form of module   \n",
       "\n",
       "                                                                                                                                                                                                                                                                                                                                                          property_value  \n",
       "0  The course falls into the data management area of the MMDS and covers topics related to data management, but is not di- rectly equivalent to any course in the MMDS module cata- logue. The course level equals a regular course in MMDS study program. The module can be taken either at the University of Mannheim or at any other university in Germany or abroad.  \n",
       "1                                                                                                                                                                                                                                                                                                                                    Additional Course – Data Management  \n",
       "2                                                                                                                                                                                                                                                                                                                                                             1 Semester  \n",
       "3                                                                                                                                                                                                                                                                                                                                                                Max. 18  \n",
       "4                                                                                                                                                                                                                                                                                                                                                      Depends on course  "
      ]
     },
     "metadata": {},
     "output_type": "display_data"
    },
    {
     "name": "stdout",
     "output_type": "stream",
     "text": [
      "Size mmds_courses_data:  737\n"
     ]
    }
   ],
   "source": [
    "mmds_courses_data = pd.read_csv('../data/processed/mmds_courses_data.csv')\n",
    "display(mmds_courses_data.head())\n",
    "print ('Size mmds_courses_data: ',len(mmds_courses_data))"
   ]
  },
  {
   "cell_type": "code",
   "execution_count": 6,
   "metadata": {},
   "outputs": [
    {
     "data": {
      "text/plain": [
       "22"
      ]
     },
     "execution_count": 6,
     "metadata": {},
     "output_type": "execute_result"
    }
   ],
   "source": [
    "#Nulls in property_value column\n",
    "len(mmds_courses_data[mmds_courses_data.property_value.isna()])"
   ]
  },
  {
   "cell_type": "markdown",
   "metadata": {},
   "source": [
    "## 2. URIs Creation"
   ]
  },
  {
   "cell_type": "markdown",
   "metadata": {},
   "source": [
    "#### Programs : https://www.wim.uni-mannheim.de/en/academics/programs/\n",
    "\n",
    "        - Base URL : https://www.uni-mannheim.de/en/academics/\n",
    "        - MMDS : https://www.uni-mannheim.de/en/academics/programs/mannheim-master-in-data-science/\n",
    "        - BI.  : https://www.uni-mannheim.de/en/academics/programs/masters-program-in-business-informatics/\n",
    "        - Courses : https://www.uni-mannheim.de/en/academics/courses/"
   ]
  },
  {
   "cell_type": "code",
   "execution_count": 7,
   "metadata": {},
   "outputs": [],
   "source": [
    "baseURL = Namespace('https://www.uni-mannheim.de/en/academics/')\n",
    "mmdsModuleURL = Namespace(baseURL+'programs/mannheim-master-in-data-science/modules/')\n",
    "mmdsURL = Namespace(baseURL+'programs/mannheim-master-in-data-science/')\n",
    "courseURL = Namespace(baseURL+'courses/')\n",
    "propertyURL = Namespace(baseURL+'property/')\n",
    "professorURL = Namespace(baseURL+'professor/')"
   ]
  },
  {
   "cell_type": "code",
   "execution_count": 8,
   "metadata": {},
   "outputs": [],
   "source": [
    "def create_uri(name:str,baseURL):\n",
    "    '''Takes a string and returns a valid namespace URI'''\n",
    "    quoted = quote(name.replace(\" \", \"_\"))\n",
    "    return baseURL[quoted]"
   ]
  },
  {
   "cell_type": "markdown",
   "metadata": {},
   "source": [
    "### 2.1 Module URIs"
   ]
  },
  {
   "cell_type": "code",
   "execution_count": 9,
   "metadata": {},
   "outputs": [
    {
     "data": {
      "text/html": [
       "<div>\n",
       "<style scoped>\n",
       "    .dataframe tbody tr th:only-of-type {\n",
       "        vertical-align: middle;\n",
       "    }\n",
       "\n",
       "    .dataframe tbody tr th {\n",
       "        vertical-align: top;\n",
       "    }\n",
       "\n",
       "    .dataframe thead th {\n",
       "        text-align: right;\n",
       "    }\n",
       "</style>\n",
       "<table border=\"1\" class=\"dataframe\">\n",
       "  <thead>\n",
       "    <tr style=\"text-align: right;\">\n",
       "      <th></th>\n",
       "      <th>module</th>\n",
       "      <th>counts</th>\n",
       "      <th>moduleURI</th>\n",
       "    </tr>\n",
       "  </thead>\n",
       "  <tbody>\n",
       "    <tr>\n",
       "      <th>0</th>\n",
       "      <td>Data Analytics</td>\n",
       "      <td>24</td>\n",
       "      <td>https://www.uni-mannheim.de/en/academics/programs/mannheim-master-in-data-science/modules/Data_Analytics</td>\n",
       "    </tr>\n",
       "    <tr>\n",
       "      <th>1</th>\n",
       "      <td>Data Management</td>\n",
       "      <td>15</td>\n",
       "      <td>https://www.uni-mannheim.de/en/academics/programs/mannheim-master-in-data-science/modules/Data_Management</td>\n",
       "    </tr>\n",
       "    <tr>\n",
       "      <th>2</th>\n",
       "      <td>Fundamentals</td>\n",
       "      <td>6</td>\n",
       "      <td>https://www.uni-mannheim.de/en/academics/programs/mannheim-master-in-data-science/modules/Fundamentals</td>\n",
       "    </tr>\n",
       "    <tr>\n",
       "      <th>3</th>\n",
       "      <td>Responsible Data Science</td>\n",
       "      <td>3</td>\n",
       "      <td>https://www.uni-mannheim.de/en/academics/programs/mannheim-master-in-data-science/modules/Responsible_Data_Science</td>\n",
       "    </tr>\n",
       "  </tbody>\n",
       "</table>\n",
       "</div>"
      ],
      "text/plain": [
       "                     module  counts  \\\n",
       "0            Data Analytics      24   \n",
       "1           Data Management      15   \n",
       "2              Fundamentals       6   \n",
       "3  Responsible Data Science       3   \n",
       "\n",
       "                                                                                                            moduleURI  \n",
       "0            https://www.uni-mannheim.de/en/academics/programs/mannheim-master-in-data-science/modules/Data_Analytics  \n",
       "1           https://www.uni-mannheim.de/en/academics/programs/mannheim-master-in-data-science/modules/Data_Management  \n",
       "2              https://www.uni-mannheim.de/en/academics/programs/mannheim-master-in-data-science/modules/Fundamentals  \n",
       "3  https://www.uni-mannheim.de/en/academics/programs/mannheim-master-in-data-science/modules/Responsible_Data_Science  "
      ]
     },
     "metadata": {},
     "output_type": "display_data"
    },
    {
     "name": "stdout",
     "output_type": "stream",
     "text": [
      "Example:  https://www.uni-mannheim.de/en/academics/programs/mannheim-master-in-data-science/modules/Data_Analytics\n"
     ]
    }
   ],
   "source": [
    "mmds_modules['moduleURI'] = mmds_modules.module.apply(lambda x: create_uri(x,mmdsModuleURL))\n",
    "\n",
    "display (mmds_modules)\n",
    "print('Example: ',mmds_modules.moduleURI[0])"
   ]
  },
  {
   "cell_type": "markdown",
   "metadata": {},
   "source": [
    "### 2.2 Course URIs"
   ]
  },
  {
   "cell_type": "code",
   "execution_count": 10,
   "metadata": {},
   "outputs": [
    {
     "data": {
      "text/html": [
       "<div>\n",
       "<style scoped>\n",
       "    .dataframe tbody tr th:only-of-type {\n",
       "        vertical-align: middle;\n",
       "    }\n",
       "\n",
       "    .dataframe tbody tr th {\n",
       "        vertical-align: top;\n",
       "    }\n",
       "\n",
       "    .dataframe thead th {\n",
       "        text-align: right;\n",
       "    }\n",
       "</style>\n",
       "<table border=\"1\" class=\"dataframe\">\n",
       "  <thead>\n",
       "    <tr style=\"text-align: right;\">\n",
       "      <th></th>\n",
       "      <th>module_code</th>\n",
       "      <th>Name of Module</th>\n",
       "      <th>Offered</th>\n",
       "      <th>Language</th>\n",
       "      <th>ECTS</th>\n",
       "      <th>moduleCategory</th>\n",
       "      <th>courseURI</th>\n",
       "    </tr>\n",
       "  </thead>\n",
       "  <tbody>\n",
       "    <tr>\n",
       "      <th>0</th>\n",
       "      <td>CS 450</td>\n",
       "      <td>Programming Course</td>\n",
       "      <td>HWS</td>\n",
       "      <td>E</td>\n",
       "      <td>6</td>\n",
       "      <td>Fundamentals</td>\n",
       "      <td>https://www.uni-mannheim.de/en/academics/courses/cs_450_programming_course</td>\n",
       "    </tr>\n",
       "    <tr>\n",
       "      <th>1</th>\n",
       "      <td>CS 460</td>\n",
       "      <td>Database Technology</td>\n",
       "      <td>FSS</td>\n",
       "      <td>E</td>\n",
       "      <td>6</td>\n",
       "      <td>Fundamentals</td>\n",
       "      <td>https://www.uni-mannheim.de/en/academics/courses/cs_460_database_technology</td>\n",
       "    </tr>\n",
       "    <tr>\n",
       "      <th>2</th>\n",
       "      <td>CS 470</td>\n",
       "      <td>Python for Data Scientists</td>\n",
       "      <td>FSS</td>\n",
       "      <td>E</td>\n",
       "      <td>6</td>\n",
       "      <td>Fundamentals</td>\n",
       "      <td>https://www.uni-mannheim.de/en/academics/courses/cs_470_python_for_data_scientists</td>\n",
       "    </tr>\n",
       "    <tr>\n",
       "      <th>6</th>\n",
       "      <td>AC 651</td>\n",
       "      <td>Additional Course – Data Management</td>\n",
       "      <td>HWS/FSS</td>\n",
       "      <td>E</td>\n",
       "      <td>AC 651*</td>\n",
       "      <td>Data Management</td>\n",
       "      <td>https://www.uni-mannheim.de/en/academics/courses/ac_651_additional_course_%E2%80%93_data_management</td>\n",
       "    </tr>\n",
       "    <tr>\n",
       "      <th>7</th>\n",
       "      <td>CS 500</td>\n",
       "      <td>Advanced Software Engineering</td>\n",
       "      <td>HWS</td>\n",
       "      <td>E</td>\n",
       "      <td>6</td>\n",
       "      <td>Data Management</td>\n",
       "      <td>https://www.uni-mannheim.de/en/academics/courses/cs_500_advanced_software_engineering</td>\n",
       "    </tr>\n",
       "  </tbody>\n",
       "</table>\n",
       "</div>"
      ],
      "text/plain": [
       "  module_code                       Name of Module  Offered Language     ECTS  \\\n",
       "0      CS 450                   Programming Course      HWS        E        6   \n",
       "1      CS 460                  Database Technology      FSS        E        6   \n",
       "2      CS 470           Python for Data Scientists      FSS        E        6   \n",
       "6      AC 651  Additional Course – Data Management  HWS/FSS        E  AC 651*   \n",
       "7      CS 500        Advanced Software Engineering      HWS        E        6   \n",
       "\n",
       "    moduleCategory  \\\n",
       "0     Fundamentals   \n",
       "1     Fundamentals   \n",
       "2     Fundamentals   \n",
       "6  Data Management   \n",
       "7  Data Management   \n",
       "\n",
       "                                                                                             courseURI  \n",
       "0                           https://www.uni-mannheim.de/en/academics/courses/cs_450_programming_course  \n",
       "1                          https://www.uni-mannheim.de/en/academics/courses/cs_460_database_technology  \n",
       "2                   https://www.uni-mannheim.de/en/academics/courses/cs_470_python_for_data_scientists  \n",
       "6  https://www.uni-mannheim.de/en/academics/courses/ac_651_additional_course_%E2%80%93_data_management  \n",
       "7                https://www.uni-mannheim.de/en/academics/courses/cs_500_advanced_software_engineering  "
      ]
     },
     "metadata": {},
     "output_type": "display_data"
    },
    {
     "name": "stdout",
     "output_type": "stream",
     "text": [
      "Example:  https://www.uni-mannheim.de/en/academics/courses/cs_450_programming_course\n"
     ]
    }
   ],
   "source": [
    "# Eliminate instances without code\n",
    "mmds_courses = df_mmds_courses[df_mmds_courses.module_code.notna()].copy()\n",
    "# Create URIs\n",
    "mmds_courses['courseURI'] = mmds_courses.module_code.str.lower()+' '+mmds_courses['Name of Module'].str.lower()\n",
    "mmds_courses['courseURI'] = mmds_courses.courseURI.apply(lambda x: create_uri(x,courseURL))\n",
    "\n",
    "display (mmds_courses.head())\n",
    "print('Example: ',mmds_courses['courseURI'][0])"
   ]
  },
  {
   "cell_type": "markdown",
   "metadata": {},
   "source": [
    "### 2.3 Property URIs\n",
    "\n",
    "#### Properties selection"
   ]
  },
  {
   "cell_type": "code",
   "execution_count": 11,
   "metadata": {
    "scrolled": true
   },
   "outputs": [
    {
     "data": {
      "text/html": [
       "<div>\n",
       "<style scoped>\n",
       "    .dataframe tbody tr th:only-of-type {\n",
       "        vertical-align: middle;\n",
       "    }\n",
       "\n",
       "    .dataframe tbody tr th {\n",
       "        vertical-align: top;\n",
       "    }\n",
       "\n",
       "    .dataframe thead th {\n",
       "        text-align: right;\n",
       "    }\n",
       "</style>\n",
       "<table border=\"1\" class=\"dataframe\">\n",
       "  <thead>\n",
       "    <tr style=\"text-align: right;\">\n",
       "      <th></th>\n",
       "      <th>property</th>\n",
       "      <th>counts</th>\n",
       "    </tr>\n",
       "  </thead>\n",
       "  <tbody>\n",
       "    <tr>\n",
       "      <th>0</th>\n",
       "      <td>Aim of module</td>\n",
       "      <td>32</td>\n",
       "    </tr>\n",
       "    <tr>\n",
       "      <th>1</th>\n",
       "      <td>ECTS</td>\n",
       "      <td>32</td>\n",
       "    </tr>\n",
       "    <tr>\n",
       "      <th>2</th>\n",
       "      <td>Level</td>\n",
       "      <td>32</td>\n",
       "    </tr>\n",
       "    <tr>\n",
       "      <th>3</th>\n",
       "      <td>Person in charge</td>\n",
       "      <td>32</td>\n",
       "    </tr>\n",
       "    <tr>\n",
       "      <th>4</th>\n",
       "      <td>Prerequisites</td>\n",
       "      <td>32</td>\n",
       "    </tr>\n",
       "  </tbody>\n",
       "</table>\n",
       "</div>"
      ],
      "text/plain": [
       "           property  counts\n",
       "0     Aim of module      32\n",
       "1              ECTS      32\n",
       "2             Level      32\n",
       "3  Person in charge      32\n",
       "4     Prerequisites      32"
      ]
     },
     "execution_count": 11,
     "metadata": {},
     "output_type": "execute_result"
    }
   ],
   "source": [
    "mmds_course_property = mmds_courses_data['property'].value_counts().rename_axis('property').reset_index(name=\"counts\").copy()\n",
    "mmds_course_property = mmds_course_property[mmds_course_property.counts>16]\n",
    "mmds_course_property.head()"
   ]
  },
  {
   "cell_type": "markdown",
   "metadata": {},
   "source": [
    "Selected properties"
   ]
  },
  {
   "cell_type": "code",
   "execution_count": 12,
   "metadata": {},
   "outputs": [
    {
     "name": "stdout",
     "output_type": "stream",
     "text": [
      "['Duration of assessment', 'Prerequisites', 'ECTS', 'Form of assessment', 'Aim of module', 'Workload', 'Offering', 'Lecturer', 'Language', 'Duration of module', 'Semester', 'Methods', 'Range of application', 'Admission requirements']\n"
     ]
    }
   ],
   "source": [
    "property_list = ['Duration of assessment','Prerequisites','ECTS','Form of assessment','Aim of module',\n",
    "                 'Workload','Offering','Lecturer', 'Language','Duration of module','Semester','Methods',\n",
    "                 'Range of application','Admission requirements']\n",
    "print (property_list)"
   ]
  },
  {
   "cell_type": "markdown",
   "metadata": {},
   "source": [
    "Filtrate dataframe, including only these properties"
   ]
  },
  {
   "cell_type": "code",
   "execution_count": 13,
   "metadata": {},
   "outputs": [
    {
     "name": "stdout",
     "output_type": "stream",
     "text": [
      "Size mmds_courses_data_:  414\n"
     ]
    }
   ],
   "source": [
    "mmds_courses_data_ = mmds_courses_data[mmds_courses_data.property.isin(property_list)].copy()\n",
    "print ('Size mmds_courses_data_: ',len(mmds_courses_data_))"
   ]
  },
  {
   "cell_type": "markdown",
   "metadata": {},
   "source": [
    "Create course URI, property URI, and professor URI"
   ]
  },
  {
   "cell_type": "code",
   "execution_count": 14,
   "metadata": {
    "scrolled": false
   },
   "outputs": [
    {
     "data": {
      "text/plain": [
       "[rdflib.term.URIRef('https://www.uni-mannheim.de/en/academics/property/aim_of_module'),\n",
       " rdflib.term.URIRef('https://www.uni-mannheim.de/en/academics/property/duration_of_module'),\n",
       " rdflib.term.URIRef('https://www.uni-mannheim.de/en/academics/property/ects'),\n",
       " rdflib.term.URIRef('https://www.uni-mannheim.de/en/academics/property/language'),\n",
       " rdflib.term.URIRef('https://www.uni-mannheim.de/en/academics/property/lecturer'),\n",
       " rdflib.term.URIRef('https://www.uni-mannheim.de/en/academics/property/offering'),\n",
       " rdflib.term.URIRef('https://www.uni-mannheim.de/en/academics/property/prerequisites'),\n",
       " rdflib.term.URIRef('https://www.uni-mannheim.de/en/academics/property/range_of_application'),\n",
       " rdflib.term.URIRef('https://www.uni-mannheim.de/en/academics/property/semester'),\n",
       " rdflib.term.URIRef('https://www.uni-mannheim.de/en/academics/property/workload'),\n",
       " rdflib.term.URIRef('https://www.uni-mannheim.de/en/academics/property/admission_requirements'),\n",
       " rdflib.term.URIRef('https://www.uni-mannheim.de/en/academics/property/duration_of_assessment'),\n",
       " rdflib.term.URIRef('https://www.uni-mannheim.de/en/academics/property/form_of_assessment'),\n",
       " rdflib.term.URIRef('https://www.uni-mannheim.de/en/academics/property/methods')]"
      ]
     },
     "execution_count": 14,
     "metadata": {},
     "output_type": "execute_result"
    }
   ],
   "source": [
    "#create course URI\n",
    "mmds_courses_data_\n",
    "mmds_courses_data_['courseURI'] = mmds_courses_data_.module_code.str.lower()+' '+mmds_courses_data_.module_name.str.lower()\n",
    "mmds_courses_data_['courseURI'] = mmds_courses_data_.courseURI.apply(lambda x: create_uri(x,courseURL))\n",
    "\n",
    "#create property URI\n",
    "mmds_courses_data_['propertyURI'] = mmds_courses_data_.property.str.lower()\n",
    "mmds_courses_data_['propertyURI'] = mmds_courses_data_.propertyURI.apply(lambda x: create_uri(x,propertyURL))\n",
    "mmds_courses_data_.head()\n",
    "\n",
    "#Unique list of properties\n",
    "propertyURI = list(mmds_courses_data_.propertyURI.unique())\n",
    "propertyURI"
   ]
  },
  {
   "cell_type": "markdown",
   "metadata": {},
   "source": [
    "### 2.4 Lecturer URIs"
   ]
  },
  {
   "cell_type": "code",
   "execution_count": 15,
   "metadata": {},
   "outputs": [
    {
     "name": "stdout",
     "output_type": "stream",
     "text": [
      "Size mmds_courses_data_:  415\n"
     ]
    },
    {
     "name": "stderr",
     "output_type": "stream",
     "text": [
      "<ipython-input-15-2c9163efffef>:7: UserWarning: Boolean Series key will be reindexed to match DataFrame index.\n",
      "  mmds_courses_data_.loc[lecturere_mask,'property_value'] = mmds_courses_data_[lecturere_mask].property_value.apply(lambda x: create_uri(x,professorURL))\n"
     ]
    },
    {
     "data": {
      "text/plain": [
       "[rdflib.term.URIRef('https://www.uni-mannheim.de/en/academics/professor/LHU'),\n",
       " rdflib.term.URIRef('https://www.uni-mannheim.de/en/academics/professor/Ursula_Rost'),\n",
       " rdflib.term.URIRef('https://www.uni-mannheim.de/en/academics/professor/Heiko_Paulheim'),\n",
       " rdflib.term.URIRef('https://www.uni-mannheim.de/en/academics/professor/Marcus_Kessel'),\n",
       " rdflib.term.URIRef('https://www.uni-mannheim.de/en/academics/professor/Colin_Atkinson'),\n",
       " rdflib.term.URIRef('https://www.uni-mannheim.de/en/academics/professor/Guido_Moerkotte'),\n",
       " rdflib.term.URIRef('https://www.uni-mannheim.de/en/academics/professor/Matthias_Krause'),\n",
       " rdflib.term.URIRef('https://www.uni-mannheim.de/en/academics/professor/Rainer_Gemulla'),\n",
       " rdflib.term.URIRef('https://www.uni-mannheim.de/en/academics/professor/Frederik_Armknecht'),\n",
       " rdflib.term.URIRef('https://www.uni-mannheim.de/en/academics/professor/Roland_Lei%C3%9Fa'),\n",
       " rdflib.term.URIRef('https://www.uni-mannheim.de/en/academics/professor/MKW'),\n",
       " rdflib.term.URIRef('https://www.uni-mannheim.de/en/academics/professor/Christian_Bizer'),\n",
       " rdflib.term.URIRef('https://www.uni-mannheim.de/en/academics/professor/Heiner_Stuckenschmidt'),\n",
       " rdflib.term.URIRef('https://www.uni-mannheim.de/en/academics/professor/Markus_Strohmaier'),\n",
       " rdflib.term.URIRef('https://www.uni-mannheim.de/en/academics/professor/Simone_Ponzetto')]"
      ]
     },
     "execution_count": 15,
     "metadata": {},
     "output_type": "execute_result"
    }
   ],
   "source": [
    "#create professor URI\n",
    "lecturere_mask = mmds_courses_data_.property=='Lecturer'\n",
    "mmds_courses_data_.loc[lecturere_mask,'property_value'] = mmds_courses_data_.loc[lecturere_mask,'property_value'].str.replace('.','',regex=True).str.replace('; ',',',regex=True).str.replace(',nan','',regex=True)\n",
    "mmds_courses_data_.loc[lecturere_mask,'property_value'] = mmds_courses_data_.loc[lecturere_mask,'property_value'].str.replace('Lecturer at the host university','LHU',regex=True).str.replace('Prof ','',regex=True).str.replace('Dr ','',regex=True).str.replace('Junior ','',regex=True).str.replace('Professor ','',regex=True).str.replace('Simone Paolo Ponzetto','Simone Ponzetto',regex=True)\n",
    "mmds_courses_data_.loc[lecturere_mask,'property_value'] = mmds_courses_data_.loc[lecturere_mask,'property_value'].str.split(\",\")\n",
    "mmds_courses_data_ = mmds_courses_data_.explode('property_value')\n",
    "mmds_courses_data_.loc[lecturere_mask,'property_value'] = mmds_courses_data_[lecturere_mask].property_value.apply(lambda x: create_uri(x,professorURL))\n",
    "\n",
    "print ('Size mmds_courses_data_: ',len(mmds_courses_data_))\n",
    "\n",
    "#Unique list of Lecturers\n",
    "lecturerURI = list(mmds_courses_data_.loc[lecturere_mask,'property_value'].unique())\n",
    "lecturerURI"
   ]
  },
  {
   "cell_type": "markdown",
   "metadata": {},
   "source": [
    "## 3. KG Building"
   ]
  },
  {
   "cell_type": "code",
   "execution_count": 16,
   "metadata": {},
   "outputs": [],
   "source": [
    "baseURL = Namespace('https://www.uni-mannheim.de/en/academics/')\n",
    "mmdsModuleURL = Namespace(baseURL+'programs/mannheim-master-in-data-science/modules/')\n",
    "mmdsURL = Namespace(baseURL+'programs/mannheim-master-in-data-science/')\n",
    "courseURL = Namespace(baseURL+'courses/')\n",
    "propertyURL = Namespace(baseURL+'property/')\n",
    "professorURL = Namespace(baseURL+'professor/')"
   ]
  },
  {
   "cell_type": "code",
   "execution_count": 17,
   "metadata": {},
   "outputs": [],
   "source": [
    "g = Graph()\n",
    "g.bind(\"foaf\", FOAF)\n",
    "g.bind(\"courseKG\", baseURL)\n",
    "g.bind(\"prop\",propertyURL)\n",
    "g.bind(\"owl\",OWL)\n",
    "g.bind(\"xsd\",XSD)"
   ]
  },
  {
   "cell_type": "code",
   "execution_count": 18,
   "metadata": {},
   "outputs": [
    {
     "data": {
      "text/plain": [
       "rdflib.term.URIRef('https://www.uni-mannheim.de/en/academics/programs')"
      ]
     },
     "execution_count": 18,
     "metadata": {},
     "output_type": "execute_result"
    }
   ],
   "source": [
    "baseURL.programs"
   ]
  },
  {
   "cell_type": "markdown",
   "metadata": {},
   "source": [
    "### 3.1 Ontology"
   ]
  },
  {
   "cell_type": "markdown",
   "metadata": {},
   "source": [
    "#### Classes"
   ]
  },
  {
   "cell_type": "code",
   "execution_count": 19,
   "metadata": {},
   "outputs": [
    {
     "data": {
      "text/plain": [
       "<Graph identifier=Nb064977b5ab5446e934c2d554f977e53 (<class 'rdflib.graph.Graph'>)>"
      ]
     },
     "execution_count": 19,
     "metadata": {},
     "output_type": "execute_result"
    }
   ],
   "source": [
    "g.add((baseURL.programs, RDF.type, RDFS.Class))\n",
    "g.add((baseURL.module, RDFS.subClassOf, baseURL.programs)) #???\n",
    "g.add((baseURL.course, RDF.type, RDFS.Class))\n",
    "g.add((baseURL.people, RDF.type, RDFS.Class ))\n",
    "g.add((baseURL.people, RDFS.subClassOf, FOAF.Person))\n",
    "g.add((baseURL.professor,RDFS.subClassOf,baseURL.people))"
   ]
  },
  {
   "cell_type": "markdown",
   "metadata": {},
   "source": [
    "#### Properties"
   ]
  },
  {
   "cell_type": "code",
   "execution_count": 20,
   "metadata": {},
   "outputs": [
    {
     "data": {
      "text/plain": [
       "<Graph identifier=Nb064977b5ab5446e934c2d554f977e53 (<class 'rdflib.graph.Graph'>)>"
      ]
     },
     "execution_count": 20,
     "metadata": {},
     "output_type": "execute_result"
    }
   ],
   "source": [
    "# Set all properties as DatatypeProperty\n",
    "for prop in propertyURI:\n",
    "    g.add((prop, RDF.type, OWL.DatatypeProperty))\n",
    "    g.add((prop, RDFS.domain, baseURL.course))\n",
    "    g.add((prop, RDFS.range, XSD.string))\n",
    "    \n",
    "# Change property lecturer to ObjectProperty\n",
    "g.set((propertyURL.lecturer, RDF.type, OWL.ObjectProperty))\n",
    "g.set((propertyURL.lecturer, RDFS.domain, baseURL.course))\n",
    "g.set((propertyURL.lecturer, RDFS.range, baseURL.professor))\n",
    "\n",
    "# isCourseOf property\n",
    "g.add((propertyURL.isCourseOf, RDF.type, OWL.ObjectProperty))\n",
    "g.add((propertyURL.isCourseOf, RDFS.domain, baseURL.course))\n",
    "g.add((propertyURL.isCourseOf, RDFS.range, baseURL.module))\n",
    "\n",
    "# isModuleOf property\n",
    "g.add((propertyURL.isModuleOf, RDF.type, OWL.ObjectProperty))\n",
    "g.add((propertyURL.isModuleOf, RDFS.domain, baseURL.module))\n",
    "g.add((propertyURL.isModuleOf, RDFS.range, baseURL.programs))\n",
    "\n",
    "# courseCode property\n",
    "g.add((propertyURL.courseCode, RDF.type, OWL.DatatypeProperty))\n",
    "g.add((propertyURL.courseCode, RDFS.domain, baseURL.course))\n",
    "g.add((propertyURL.courseCode, RDFS.range, XSD.string))\n",
    "\n",
    "# courseName property\n",
    "g.add((propertyURL.courseName, RDF.type, OWL.DatatypeProperty))\n",
    "g.add((propertyURL.courseName, RDFS.domain, baseURL.course))\n",
    "g.add((propertyURL.courseName, RDFS.range, XSD.string))\n",
    "\n",
    "# moduleName property\n",
    "g.add((propertyURL.moduleName, RDF.type, OWL.DatatypeProperty))\n",
    "g.add((propertyURL.moduleName, RDFS.domain, baseURL.module))\n",
    "g.add((propertyURL.moduleName, RDFS.range, XSD.string))\n",
    "\n",
    "# professorName property\n",
    "g.add((propertyURL.professorName, RDF.type, OWL.DatatypeProperty))\n",
    "g.add((propertyURL.professorName, RDFS.domain, baseURL.professor))\n",
    "g.add((propertyURL.professorName, RDFS.range, XSD.string))\n"
   ]
  },
  {
   "cell_type": "markdown",
   "metadata": {},
   "source": [
    "### 3.2 Assertion - Box"
   ]
  },
  {
   "cell_type": "markdown",
   "metadata": {},
   "source": [
    "#### Programs"
   ]
  },
  {
   "cell_type": "code",
   "execution_count": 21,
   "metadata": {},
   "outputs": [
    {
     "data": {
      "text/plain": [
       "<Graph identifier=Nb064977b5ab5446e934c2d554f977e53 (<class 'rdflib.graph.Graph'>)>"
      ]
     },
     "execution_count": 21,
     "metadata": {},
     "output_type": "execute_result"
    }
   ],
   "source": [
    "g.add((URIRef(mmdsURL), RDF.type, baseURL.programs))"
   ]
  },
  {
   "cell_type": "markdown",
   "metadata": {},
   "source": [
    "#### Modules"
   ]
  },
  {
   "cell_type": "markdown",
   "metadata": {},
   "source": [
    "Define modules and connect them with literal values (moduleName)"
   ]
  },
  {
   "cell_type": "code",
   "execution_count": 22,
   "metadata": {},
   "outputs": [],
   "source": [
    "for row in mmds_modules.index:\n",
    "    g.add((URIRef(mmds_modules.loc[row,'moduleURI']), RDF.type, baseURL.module))\n",
    "    g.add((mmds_modules.loc[row,'moduleURI'], propertyURL.moduleName, Literal(mmds_modules.loc[row,'module'])))"
   ]
  },
  {
   "cell_type": "markdown",
   "metadata": {},
   "source": [
    "Connect modules with programs"
   ]
  },
  {
   "cell_type": "code",
   "execution_count": 23,
   "metadata": {},
   "outputs": [],
   "source": [
    "for item in mmds_modules.moduleURI.iteritems():\n",
    "    g.add((item[1],propertyURL.isModuleOf,URIRef(mmdsURL)))"
   ]
  },
  {
   "cell_type": "markdown",
   "metadata": {},
   "source": [
    "#### Professors"
   ]
  },
  {
   "cell_type": "code",
   "execution_count": 24,
   "metadata": {},
   "outputs": [],
   "source": [
    "for profURI in lecturerURI:\n",
    "    g.add((profURI, RDF.type, baseURL.professor))\n",
    "    g.add((profURI, propertyURL.professorName, Literal(str(profURI).replace(str(professorURL),''))))"
   ]
  },
  {
   "cell_type": "markdown",
   "metadata": {},
   "source": [
    "Connect to public KG"
   ]
  },
  {
   "cell_type": "code",
   "execution_count": 25,
   "metadata": {},
   "outputs": [],
   "source": [
    "# OWL sameAs links to other (public) knowledge graphs\n",
    "sameAs = {\n",
    "    'https://www.uni-mannheim.de/en/academics/professor/Ursula_Rost' : ['https://dblp.org/pid/r/URost'],\n",
    "    'https://www.uni-mannheim.de/en/academics/professor/Heiko_Paulheim': ['https://dblp.org/pid/39/4064', 'http://www.wikidata.org/entity/Q23709849'],\n",
    "    'https://www.uni-mannheim.de/en/academics/professor/Marcus_Kessel' : ['https://dblp.org/pid/133/2140'],\n",
    "    'https://www.uni-mannheim.de/en/academics/professor/Colin_Atkinson' : ['https://dblp.org/pid/a/ColinAtkinson', 'https://www.wikidata.org/entity/Q40100239'],\n",
    "    'https://www.uni-mannheim.de/en/academics/professor/Guido_Moerkotte' : ['https://dblp.org/pid/m/GuidoMoerkotte','https://www.wikidata.org/entity/Q40472650'],\n",
    "    'https://www.uni-mannheim.de/en/academics/professor/Matthias_Krause' : ['https://dblp.org/pid/90/2046-1','https://www.wikidata.org/entity/Q102110274'],\n",
    "    'https://www.uni-mannheim.de/en/academics/professor/Rainer_Gemulla': ['https://dblp.org/pid/32/5357', 'http://www.wikidata.org/entity/Q39160786'],\n",
    "    'https://www.uni-mannheim.de/en/academics/professor/Frederik_Armknecht' : ['https://dblp.org/pid/65/6856', 'https://www.wikidata.org/entity/Q102110273'],\n",
    "    'https://www.uni-mannheim.de/en/academics/professor/Roland_Lei%C3%9Fa': ['https://dblp.org/pid/05/10957','https://www.wikidata.org/entity/Q108751937'],\n",
    "    'https://www.uni-mannheim.de/en/academics/professor/Christian_Bizer': ['https://dblp.org/pid/b/ChristianBizer', 'http://www.wikidata.org/entity/Q17744291'],\n",
    "    'https://www.uni-mannheim.de/en/academics/professor/Heiner_Stuckenschmidt': ['https://dblp.org/pid/50/5895', 'http://www.wikidata.org/entity/Q38721681'],\n",
    "    'https://www.uni-mannheim.de/en/academics/professor/Markus_Strohmaier' : ['https://dblp.org/pid/01/6659', 'https://www.wikidata.org/entity/Q48612584'],\n",
    "    'https://www.uni-mannheim.de/en/academics/professor/Simone_Ponzetto': ['https://dblp.org/pid/04/2532', 'http://www.wikidata.org/entity/Q28578432']\n",
    "    }\n",
    "\n",
    "for original, extensions in sameAs.items():\n",
    "    for extension in extensions:\n",
    "        g.add((URIRef(original), OWL.sameAs, URIRef(extension)))"
   ]
  },
  {
   "cell_type": "markdown",
   "metadata": {},
   "source": [
    "#### Courses"
   ]
  },
  {
   "cell_type": "code",
   "execution_count": 26,
   "metadata": {},
   "outputs": [],
   "source": [
    "for courseREF in mmds_courses.courseURI:\n",
    "    g.add((URIRef(courseREF), RDF.type, baseURL.course))"
   ]
  },
  {
   "cell_type": "markdown",
   "metadata": {},
   "source": [
    "Connect courses with literal values and object instances"
   ]
  },
  {
   "cell_type": "code",
   "execution_count": 27,
   "metadata": {},
   "outputs": [],
   "source": [
    "def add_course_details(course_data):\n",
    "    #reset the index of dataframe to avoid indexing errors\n",
    "    course_data = course_data.reset_index()\n",
    "    #counter for row number\n",
    "    row=0\n",
    "    num_rows = len(course_data.index)\n",
    "    \n",
    "    #for each row in the dataframe\n",
    "    while row<num_rows:\n",
    "        #add the triple\n",
    "        sub, prop, val = (course_data.loc[row,'courseURI'],course_data.loc[row,'propertyURI'], course_data.loc[row,'property_value'])\n",
    "        \n",
    "        #check if value is null\n",
    "        if not pd.isnull((val)):\n",
    "            #check if the property is lecturer\n",
    "            if course_data.loc[row,'property']=='Lecturer':\n",
    "                #link the lecturer object to course\n",
    "                g.add((sub, prop, val))\n",
    "            else:\n",
    "                #link the literal to the course\n",
    "                g.add((sub, prop, Literal(val)))\n",
    "        row = row+1"
   ]
  },
  {
   "cell_type": "code",
   "execution_count": 28,
   "metadata": {},
   "outputs": [],
   "source": [
    "add_course_details(mmds_courses_data_)"
   ]
  },
  {
   "cell_type": "markdown",
   "metadata": {},
   "source": [
    "Connect courses with modules and more literal values (courseCode, courseName)"
   ]
  },
  {
   "cell_type": "code",
   "execution_count": 29,
   "metadata": {},
   "outputs": [],
   "source": [
    "def link_courses_modules(mmds_courses):\n",
    "    \n",
    "    #reset the index of dataframe to avoid indexing errors\n",
    "    mmds_courses = mmds_courses.reset_index()\n",
    "    #counter for row number\n",
    "    row=0\n",
    "    num_rows = len(mmds_courses.index)\n",
    "    \n",
    "    #for each row in the dataframe\n",
    "    while row<num_rows:\n",
    "        #create a mapping dictionary for adding predicates\n",
    "        map_dict = {\"courseCode\":mmds_courses.loc[row,\"module_code\"],\n",
    "                    \"courseName\":mmds_courses.loc[row,\"Name of Module\"],\n",
    "                    \"modURI\":create_uri(mmds_courses.loc[row,\"moduleCategory\"],mmdsModuleURL),\n",
    "                    \"courseURI\":mmds_courses.loc[row,\"courseURI\"]}\n",
    "        #add triples to link courses with modules\n",
    "        g.add((map_dict[\"courseURI\"], propertyURL.isCourseOf, map_dict[\"modURI\"]))\n",
    "        #add courseCode\n",
    "        g.add((map_dict[\"courseURI\"], propertyURL.courseCode, Literal(map_dict[\"courseCode\"])))\n",
    "        #add courseName\n",
    "        g.add((map_dict[\"courseURI\"], propertyURL.courseName, Literal(map_dict[\"courseName\"])))\n",
    "            \n",
    "        row=row+1"
   ]
  },
  {
   "cell_type": "code",
   "execution_count": 30,
   "metadata": {},
   "outputs": [],
   "source": [
    "link_courses_modules(mmds_courses)"
   ]
  },
  {
   "cell_type": "markdown",
   "metadata": {},
   "source": [
    "## 4. Save File I/O"
   ]
  },
  {
   "cell_type": "code",
   "execution_count": 31,
   "metadata": {},
   "outputs": [],
   "source": [
    "s = g.serialize(format=\"ttl\")\n",
    "g.serialize(destination=\"../data/kg/mmds_courses_kg.ttl\", format=\"ttl\", encoding=\"utf-8\") ;"
   ]
  },
  {
   "cell_type": "code",
   "execution_count": 33,
   "metadata": {},
   "outputs": [],
   "source": [
    "#print(s)"
   ]
  }
 ],
 "metadata": {
  "kernelspec": {
   "display_name": "Python 3",
   "language": "python",
   "name": "python3"
  },
  "language_info": {
   "codemirror_mode": {
    "name": "ipython",
    "version": 3
   },
   "file_extension": ".py",
   "mimetype": "text/x-python",
   "name": "python",
   "nbconvert_exporter": "python",
   "pygments_lexer": "ipython3",
   "version": "3.8.5"
  }
 },
 "nbformat": 4,
 "nbformat_minor": 5
}
