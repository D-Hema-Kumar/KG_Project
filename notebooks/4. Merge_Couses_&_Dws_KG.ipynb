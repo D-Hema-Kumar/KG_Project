{
 "cells": [
  {
   "cell_type": "code",
   "execution_count": 1,
   "metadata": {},
   "outputs": [],
   "source": [
    "import pandas as pd\n",
    "import numpy as np\n",
    "import re\n",
    "pd.set_option('display.max_rows', 200)\n",
    "pd.set_option('display.max_colwidth', None)\n",
    "\n",
    "import rdflib\n",
    "from urllib.parse import quote\n",
    "from rdflib import Graph, URIRef, Literal, BNode, Namespace\n",
    "from rdflib.namespace import FOAF, RDF, OWL, RDFS, XSD"
   ]
  },
  {
   "cell_type": "markdown",
   "metadata": {},
   "source": [
    "## 1. Upload KGs"
   ]
  },
  {
   "cell_type": "markdown",
   "metadata": {},
   "source": [
    "#### MMDS Courses KG"
   ]
  },
  {
   "cell_type": "code",
   "execution_count": 2,
   "metadata": {},
   "outputs": [
    {
     "data": {
      "text/plain": [
       "<Graph identifier=Nd6f3bcc475964f7581d906ddc1b733b2 (<class 'rdflib.graph.Graph'>)>"
      ]
     },
     "execution_count": 2,
     "metadata": {},
     "output_type": "execute_result"
    }
   ],
   "source": [
    "g_c = Graph()\n",
    "g_c.parse('../data/kg/mmds_courses_kg.ttl')"
   ]
  },
  {
   "cell_type": "markdown",
   "metadata": {},
   "source": [
    "#### Data Web Science KG"
   ]
  },
  {
   "cell_type": "code",
   "execution_count": 3,
   "metadata": {},
   "outputs": [
    {
     "data": {
      "text/plain": [
       "<Graph identifier=Nfb86da4888804bd497e60964203baa06 (<class 'rdflib.graph.Graph'>)>"
      ]
     },
     "execution_count": 3,
     "metadata": {},
     "output_type": "execute_result"
    }
   ],
   "source": [
    "g_dws = Graph()\n",
    "g_dws.parse('../data/kg/unima_dws_kg.ttl', format='turtle')"
   ]
  },
  {
   "cell_type": "markdown",
   "metadata": {},
   "source": [
    "## 2. Combie KGs"
   ]
  },
  {
   "cell_type": "code",
   "execution_count": 4,
   "metadata": {},
   "outputs": [],
   "source": [
    "g = g_c + g_dws"
   ]
  },
  {
   "cell_type": "markdown",
   "metadata": {},
   "source": [
    "OWL sameAs links between the professors from MMDS Courses KG and Data Web Science KG"
   ]
  },
  {
   "cell_type": "code",
   "execution_count": 5,
   "metadata": {},
   "outputs": [],
   "source": [
    "sameAs = {\n",
    "    'https://www.uni-mannheim.de/en/academics/professor/Heiko_Paulheim': ['https://www.uni-mannheim.de/dws/people/professors/prof-dr-heiko-paulheim/'],\n",
    "    'https://www.uni-mannheim.de/en/academics/professor/Rainer_Gemulla': ['https://www.uni-mannheim.de/dws/people/professors/prof-dr-rainer-gemulla/'],\n",
    "    'https://www.uni-mannheim.de/en/academics/professor/Christian_Bizer': ['https://www.uni-mannheim.de/dws/people/professors/prof-dr-christian-bizer/'],\n",
    "    'https://www.uni-mannheim.de/en/academics/professor/Heiner_Stuckenschmidt': ['https://www.uni-mannheim.de/dws/people/professors/prof-dr-heiner-stuckenschmidt/'],\n",
    "    'https://www.uni-mannheim.de/en/academics/professor/Simone_Ponzetto': ['https://www.uni-mannheim.de/dws/people/professors/prof-dr-simone-paolo-ponzetto/']\n",
    "    }\n",
    "\n",
    "for mmds_professors, dws_professors in sameAs.items():\n",
    "    g.add((URIRef(mmds_professors), OWL.sameAs, URIRef(dws_professors)))"
   ]
  },
  {
   "cell_type": "code",
   "execution_count": 6,
   "metadata": {},
   "outputs": [
    {
     "data": {
      "text/plain": [
       "<Graph identifier=Ne8bf473f05434282aed535db1736d325 (<class 'rdflib.graph.Graph'>)>"
      ]
     },
     "execution_count": 6,
     "metadata": {},
     "output_type": "execute_result"
    }
   ],
   "source": [
    "s = g.serialize(format='ttl')\n",
    "g.serialize(destination='../data/kg/mmds_courses_final_kg.ttl', format='ttl', encoding='utf-8')"
   ]
  },
  {
   "cell_type": "code",
   "execution_count": 7,
   "metadata": {
    "scrolled": true
   },
   "outputs": [],
   "source": [
    "#print(s)"
   ]
  }
 ],
 "metadata": {
  "kernelspec": {
   "display_name": "Python 3",
   "language": "python",
   "name": "python3"
  },
  "language_info": {
   "codemirror_mode": {
    "name": "ipython",
    "version": 3
   },
   "file_extension": ".py",
   "mimetype": "text/x-python",
   "name": "python",
   "nbconvert_exporter": "python",
   "pygments_lexer": "ipython3",
   "version": "3.8.5"
  }
 },
 "nbformat": 4,
 "nbformat_minor": 4
}
