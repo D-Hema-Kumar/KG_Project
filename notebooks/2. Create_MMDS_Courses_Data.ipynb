{
 "cells": [
  {
   "cell_type": "code",
   "execution_count": 1,
   "metadata": {},
   "outputs": [],
   "source": [
    "import pandas as pd\n",
    "import numpy as np\n",
    "from tabula import read_pdf\n",
    "import re\n",
    "pd.set_option('display.max_rows', 200)\n",
    "pd.set_option('display.max_colwidth', None)"
   ]
  },
  {
   "cell_type": "markdown",
   "metadata": {},
   "source": [
    "## 1. Upload Data Sources"
   ]
  },
  {
   "cell_type": "markdown",
   "metadata": {},
   "source": [
    "#### Origin: Bussiness Informatics Course Catalog"
   ]
  },
  {
   "cell_type": "code",
   "execution_count": 2,
   "metadata": {},
   "outputs": [
    {
     "name": "stderr",
     "output_type": "stream",
     "text": [
      "Got stderr: Nov 29, 2022 1:48:07 PM org.apache.fontbox.ttf.CmapSubtable processSubtype14\n",
      "WARNING: Format 14 cmap table is not supported and will be ignored\n",
      "Nov 29, 2022 1:48:07 PM org.apache.fontbox.ttf.CmapSubtable processSubtype14\n",
      "WARNING: Format 14 cmap table is not supported and will be ignored\n",
      "\n"
     ]
    },
    {
     "data": {
      "text/plain": [
       "103"
      ]
     },
     "execution_count": 2,
     "metadata": {},
     "output_type": "execute_result"
    }
   ],
   "source": [
    "bi_file = read_pdf('../data/origin/MK_MSc_Wifo_2022_2023_29082022.pdf', pages='all')\n",
    "bi_file_copy = bi_file.copy()\n",
    "\n",
    "# Keep tables with information (>2)\n",
    "wifo_df = []\n",
    "for table in bi_file_copy:\n",
    "    if len(table)>2:\n",
    "        wifo_df.append(table)\n",
    "len(wifo_df)"
   ]
  },
  {
   "cell_type": "markdown",
   "metadata": {},
   "source": [
    "#### Origin: Data Science Course Catalog"
   ]
  },
  {
   "cell_type": "code",
   "execution_count": 3,
   "metadata": {},
   "outputs": [
    {
     "data": {
      "text/plain": [
       "26"
      ]
     },
     "execution_count": 3,
     "metadata": {},
     "output_type": "execute_result"
    }
   ],
   "source": [
    "data_science_file = read_pdf('../data/origin/MK_MMDS_2022_23_neue_PO_29082022.pdf', pages='all')\n",
    "data_science_file_copy = data_science_file.copy()\n",
    "\n",
    "# Keep tables with information (>2)\n",
    "df_mmds = []\n",
    "for table in data_science_file:\n",
    "    if len(table)>2:\n",
    "        df_mmds.append(table)\n",
    "len(df_mmds)"
   ]
  },
  {
   "cell_type": "markdown",
   "metadata": {},
   "source": [
    "#### Origin: Data Science List of Courses"
   ]
  },
  {
   "cell_type": "code",
   "execution_count": 4,
   "metadata": {
    "scrolled": true
   },
   "outputs": [
    {
     "data": {
      "text/html": [
       "<div>\n",
       "<style scoped>\n",
       "    .dataframe tbody tr th:only-of-type {\n",
       "        vertical-align: middle;\n",
       "    }\n",
       "\n",
       "    .dataframe tbody tr th {\n",
       "        vertical-align: top;\n",
       "    }\n",
       "\n",
       "    .dataframe thead th {\n",
       "        text-align: right;\n",
       "    }\n",
       "</style>\n",
       "<table border=\"1\" class=\"dataframe\">\n",
       "  <thead>\n",
       "    <tr style=\"text-align: right;\">\n",
       "      <th></th>\n",
       "      <th>module_code</th>\n",
       "      <th>Name of Module</th>\n",
       "      <th>Offered</th>\n",
       "      <th>Language</th>\n",
       "      <th>ECTS</th>\n",
       "      <th>moduleCategory</th>\n",
       "    </tr>\n",
       "  </thead>\n",
       "  <tbody>\n",
       "    <tr>\n",
       "      <th>0</th>\n",
       "      <td>CS 450</td>\n",
       "      <td>Programming Course</td>\n",
       "      <td>HWS</td>\n",
       "      <td>E</td>\n",
       "      <td>6</td>\n",
       "      <td>Fundamentals</td>\n",
       "    </tr>\n",
       "    <tr>\n",
       "      <th>1</th>\n",
       "      <td>CS 460</td>\n",
       "      <td>Database Technology</td>\n",
       "      <td>FSS</td>\n",
       "      <td>E</td>\n",
       "      <td>6</td>\n",
       "      <td>Fundamentals</td>\n",
       "    </tr>\n",
       "    <tr>\n",
       "      <th>2</th>\n",
       "      <td>CS 470</td>\n",
       "      <td>Python for Data Scientists</td>\n",
       "      <td>FSS</td>\n",
       "      <td>E</td>\n",
       "      <td>6</td>\n",
       "      <td>Fundamentals</td>\n",
       "    </tr>\n",
       "    <tr>\n",
       "      <th>3</th>\n",
       "      <td>NaN</td>\n",
       "      <td>Multivariate Analyses</td>\n",
       "      <td>HWS</td>\n",
       "      <td>E</td>\n",
       "      <td>6</td>\n",
       "      <td>Fundamentals</td>\n",
       "    </tr>\n",
       "    <tr>\n",
       "      <th>4</th>\n",
       "      <td>NaN</td>\n",
       "      <td>Tutorial Multivariate Analyses</td>\n",
       "      <td>HWS</td>\n",
       "      <td>E</td>\n",
       "      <td>2</td>\n",
       "      <td>Fundamentals</td>\n",
       "    </tr>\n",
       "    <tr>\n",
       "      <th>5</th>\n",
       "      <td>NaN</td>\n",
       "      <td>Empirische Methoden der Politikwissenschaft</td>\n",
       "      <td>HWS</td>\n",
       "      <td>G/E</td>\n",
       "      <td>6</td>\n",
       "      <td>Fundamentals</td>\n",
       "    </tr>\n",
       "    <tr>\n",
       "      <th>6</th>\n",
       "      <td>AC 651</td>\n",
       "      <td>Additional Course – Data Management</td>\n",
       "      <td>HWS/FSS</td>\n",
       "      <td>E</td>\n",
       "      <td>AC 651*</td>\n",
       "      <td>Data Management</td>\n",
       "    </tr>\n",
       "    <tr>\n",
       "      <th>7</th>\n",
       "      <td>CS 500</td>\n",
       "      <td>Advanced Software Engineering</td>\n",
       "      <td>HWS</td>\n",
       "      <td>E</td>\n",
       "      <td>6</td>\n",
       "      <td>Data Management</td>\n",
       "    </tr>\n",
       "    <tr>\n",
       "      <th>8</th>\n",
       "      <td>CS 530</td>\n",
       "      <td>Database Systems II</td>\n",
       "      <td>FSS</td>\n",
       "      <td>E</td>\n",
       "      <td>6</td>\n",
       "      <td>Data Management</td>\n",
       "    </tr>\n",
       "    <tr>\n",
       "      <th>9</th>\n",
       "      <td>CS 550</td>\n",
       "      <td>Algorithmics</td>\n",
       "      <td>FSS/HWS</td>\n",
       "      <td>E</td>\n",
       "      <td>6</td>\n",
       "      <td>Data Management</td>\n",
       "    </tr>\n",
       "    <tr>\n",
       "      <th>10</th>\n",
       "      <td>CS 560</td>\n",
       "      <td>Large Scale Data Management</td>\n",
       "      <td>HWS</td>\n",
       "      <td>E</td>\n",
       "      <td>6</td>\n",
       "      <td>Data Management</td>\n",
       "    </tr>\n",
       "    <tr>\n",
       "      <th>11</th>\n",
       "      <td>CS 600</td>\n",
       "      <td>Model-driven Development</td>\n",
       "      <td>HWS</td>\n",
       "      <td>E</td>\n",
       "      <td>6</td>\n",
       "      <td>Data Management</td>\n",
       "    </tr>\n",
       "    <tr>\n",
       "      <th>12</th>\n",
       "      <td>CS 662</td>\n",
       "      <td>Types and Programming Languages</td>\n",
       "      <td>HWS</td>\n",
       "      <td>E</td>\n",
       "      <td>6</td>\n",
       "      <td>Data Management</td>\n",
       "    </tr>\n",
       "    <tr>\n",
       "      <th>13</th>\n",
       "      <td>IS 540</td>\n",
       "      <td>Management of Enterprise Systems</td>\n",
       "      <td>HWS</td>\n",
       "      <td>E</td>\n",
       "      <td>6</td>\n",
       "      <td>Data Management</td>\n",
       "    </tr>\n",
       "    <tr>\n",
       "      <th>14</th>\n",
       "      <td>IS 556</td>\n",
       "      <td>Public Blockchains</td>\n",
       "      <td>FSS</td>\n",
       "      <td>E</td>\n",
       "      <td>3</td>\n",
       "      <td>Data Management</td>\n",
       "    </tr>\n",
       "    <tr>\n",
       "      <th>15</th>\n",
       "      <td>IE 630</td>\n",
       "      <td>Query Optimization</td>\n",
       "      <td>FSS</td>\n",
       "      <td>E</td>\n",
       "      <td>6</td>\n",
       "      <td>Data Management</td>\n",
       "    </tr>\n",
       "    <tr>\n",
       "      <th>16</th>\n",
       "      <td>IE 650</td>\n",
       "      <td>Knowledge Graphs</td>\n",
       "      <td>HWS</td>\n",
       "      <td>E</td>\n",
       "      <td>6</td>\n",
       "      <td>Data Management</td>\n",
       "    </tr>\n",
       "    <tr>\n",
       "      <th>17</th>\n",
       "      <td>IE 663</td>\n",
       "      <td>Information Retrieval and Web Search</td>\n",
       "      <td>HWS</td>\n",
       "      <td>E</td>\n",
       "      <td>3</td>\n",
       "      <td>Data Management</td>\n",
       "    </tr>\n",
       "    <tr>\n",
       "      <th>18</th>\n",
       "      <td>IE 670</td>\n",
       "      <td>Web Data Integration</td>\n",
       "      <td>HWS</td>\n",
       "      <td>E</td>\n",
       "      <td>3</td>\n",
       "      <td>Data Management</td>\n",
       "    </tr>\n",
       "    <tr>\n",
       "      <th>19</th>\n",
       "      <td>IE 691</td>\n",
       "      <td>Information Retrieval Project</td>\n",
       "      <td>HWS</td>\n",
       "      <td>E</td>\n",
       "      <td>3</td>\n",
       "      <td>Data Management</td>\n",
       "    </tr>\n",
       "    <tr>\n",
       "      <th>20</th>\n",
       "      <td>IE 683</td>\n",
       "      <td>Web Data Integration Project</td>\n",
       "      <td>HWS</td>\n",
       "      <td>E</td>\n",
       "      <td>3</td>\n",
       "      <td>Data Management</td>\n",
       "    </tr>\n",
       "    <tr>\n",
       "      <th>21</th>\n",
       "      <td>AC 652</td>\n",
       "      <td>Additional Course – Data Analytics Methods</td>\n",
       "      <td>HWS/FSS</td>\n",
       "      <td>E</td>\n",
       "      <td>AC 652*</td>\n",
       "      <td>Data Analytics</td>\n",
       "    </tr>\n",
       "    <tr>\n",
       "      <th>22</th>\n",
       "      <td>DA 110</td>\n",
       "      <td>Computational Analysis of Communication</td>\n",
       "      <td>HWS</td>\n",
       "      <td>E</td>\n",
       "      <td>6</td>\n",
       "      <td>Data Analytics</td>\n",
       "    </tr>\n",
       "    <tr>\n",
       "      <th>23</th>\n",
       "      <td>IE 500</td>\n",
       "      <td>Data Mining I</td>\n",
       "      <td>HWS/FSS</td>\n",
       "      <td>E</td>\n",
       "      <td>6</td>\n",
       "      <td>Data Analytics</td>\n",
       "    </tr>\n",
       "    <tr>\n",
       "      <th>24</th>\n",
       "      <td>IE 560</td>\n",
       "      <td>Decision Support</td>\n",
       "      <td>HWS</td>\n",
       "      <td>E</td>\n",
       "      <td>6</td>\n",
       "      <td>Data Analytics</td>\n",
       "    </tr>\n",
       "    <tr>\n",
       "      <th>25</th>\n",
       "      <td>IE 661</td>\n",
       "      <td>Text Analytics</td>\n",
       "      <td>HWS</td>\n",
       "      <td>E</td>\n",
       "      <td>6</td>\n",
       "      <td>Data Analytics</td>\n",
       "    </tr>\n",
       "    <tr>\n",
       "      <th>26</th>\n",
       "      <td>IE 671</td>\n",
       "      <td>Web Mining</td>\n",
       "      <td>FSS</td>\n",
       "      <td>E</td>\n",
       "      <td>3</td>\n",
       "      <td>Data Analytics</td>\n",
       "    </tr>\n",
       "    <tr>\n",
       "      <th>27</th>\n",
       "      <td>IE 672</td>\n",
       "      <td>Data Mining II</td>\n",
       "      <td>FSS</td>\n",
       "      <td>E</td>\n",
       "      <td>6</td>\n",
       "      <td>Data Analytics</td>\n",
       "    </tr>\n",
       "    <tr>\n",
       "      <th>28</th>\n",
       "      <td>IE 675b</td>\n",
       "      <td>Machine Learning</td>\n",
       "      <td>HWS</td>\n",
       "      <td>E</td>\n",
       "      <td>9</td>\n",
       "      <td>Data Analytics</td>\n",
       "    </tr>\n",
       "    <tr>\n",
       "      <th>29</th>\n",
       "      <td>IE 676</td>\n",
       "      <td>Network Analysis replaced by IS 622 (FSS)</td>\n",
       "      <td>HWS</td>\n",
       "      <td>E</td>\n",
       "      <td>6</td>\n",
       "      <td>Data Analytics</td>\n",
       "    </tr>\n",
       "    <tr>\n",
       "      <th>30</th>\n",
       "      <td>IE 678</td>\n",
       "      <td>Deep Learning</td>\n",
       "      <td>FSS</td>\n",
       "      <td>E</td>\n",
       "      <td>6</td>\n",
       "      <td>Data Analytics</td>\n",
       "    </tr>\n",
       "    <tr>\n",
       "      <th>31</th>\n",
       "      <td>IE 684</td>\n",
       "      <td>Web Mining Project</td>\n",
       "      <td>FSS</td>\n",
       "      <td>E</td>\n",
       "      <td>3</td>\n",
       "      <td>Data Analytics</td>\n",
       "    </tr>\n",
       "    <tr>\n",
       "      <th>32</th>\n",
       "      <td>IE 692</td>\n",
       "      <td>Advanced Process Mining</td>\n",
       "      <td>FSS</td>\n",
       "      <td>E</td>\n",
       "      <td>6</td>\n",
       "      <td>Data Analytics</td>\n",
       "    </tr>\n",
       "    <tr>\n",
       "      <th>33</th>\n",
       "      <td>IE 694</td>\n",
       "      <td>Artificial Intelligence Applications in Industry</td>\n",
       "      <td>FSS</td>\n",
       "      <td>E</td>\n",
       "      <td>6</td>\n",
       "      <td>Data Analytics</td>\n",
       "    </tr>\n",
       "    <tr>\n",
       "      <th>34</th>\n",
       "      <td>IE 696</td>\n",
       "      <td>Advanced Methods in Text Analytics</td>\n",
       "      <td>FSS</td>\n",
       "      <td>E</td>\n",
       "      <td>6</td>\n",
       "      <td>Data Analytics</td>\n",
       "    </tr>\n",
       "    <tr>\n",
       "      <th>35</th>\n",
       "      <td>IS 622</td>\n",
       "      <td>Network Science**</td>\n",
       "      <td>FSS</td>\n",
       "      <td>E</td>\n",
       "      <td>6</td>\n",
       "      <td>Data Analytics</td>\n",
       "    </tr>\n",
       "    <tr>\n",
       "      <th>36</th>\n",
       "      <td>MAA 519</td>\n",
       "      <td>Stochastic Calculus</td>\n",
       "      <td>HWS</td>\n",
       "      <td>E</td>\n",
       "      <td>5</td>\n",
       "      <td>Data Analytics</td>\n",
       "    </tr>\n",
       "    <tr>\n",
       "      <th>37</th>\n",
       "      <td>MAB 504</td>\n",
       "      <td>Mathematics and Information</td>\n",
       "      <td>irregular</td>\n",
       "      <td>G</td>\n",
       "      <td>8</td>\n",
       "      <td>Data Analytics</td>\n",
       "    </tr>\n",
       "    <tr>\n",
       "      <th>38</th>\n",
       "      <td>MAB 508</td>\n",
       "      <td>Algebraische Statistik</td>\n",
       "      <td>irregular</td>\n",
       "      <td>G/E</td>\n",
       "      <td>8</td>\n",
       "      <td>Data Analytics</td>\n",
       "    </tr>\n",
       "    <tr>\n",
       "      <th>39</th>\n",
       "      <td>MAC 404</td>\n",
       "      <td>Optimierung</td>\n",
       "      <td>HWS</td>\n",
       "      <td>G</td>\n",
       "      <td>8</td>\n",
       "      <td>Data Analytics</td>\n",
       "    </tr>\n",
       "    <tr>\n",
       "      <th>40</th>\n",
       "      <td>MAC 502</td>\n",
       "      <td>Computational Finance</td>\n",
       "      <td>FSS</td>\n",
       "      <td>G/E</td>\n",
       "      <td>6</td>\n",
       "      <td>Data Analytics</td>\n",
       "    </tr>\n",
       "    <tr>\n",
       "      <th>41</th>\n",
       "      <td>MAC 507</td>\n",
       "      <td>Nichtlineare Optimierung</td>\n",
       "      <td>FSS</td>\n",
       "      <td>G/E</td>\n",
       "      <td>6</td>\n",
       "      <td>Data Analytics</td>\n",
       "    </tr>\n",
       "    <tr>\n",
       "      <th>42</th>\n",
       "      <td>MAC 527</td>\n",
       "      <td>Markov Processes</td>\n",
       "      <td>FSS</td>\n",
       "      <td>E</td>\n",
       "      <td>4</td>\n",
       "      <td>Data Analytics</td>\n",
       "    </tr>\n",
       "    <tr>\n",
       "      <th>43</th>\n",
       "      <td>MKT 511</td>\n",
       "      <td>Marketing Analytics</td>\n",
       "      <td>FSS</td>\n",
       "      <td>E</td>\n",
       "      <td>6</td>\n",
       "      <td>Data Analytics</td>\n",
       "    </tr>\n",
       "    <tr>\n",
       "      <th>44</th>\n",
       "      <td>MKT 545</td>\n",
       "      <td>Customers, Markets and Firm Strategy</td>\n",
       "      <td>FSS</td>\n",
       "      <td>E</td>\n",
       "      <td>6</td>\n",
       "      <td>Data Analytics</td>\n",
       "    </tr>\n",
       "    <tr>\n",
       "      <th>45</th>\n",
       "      <td>CS 652</td>\n",
       "      <td>Data Security and Privacy</td>\n",
       "      <td>FSS</td>\n",
       "      <td>E</td>\n",
       "      <td>6</td>\n",
       "      <td>Responsible Data Science</td>\n",
       "    </tr>\n",
       "    <tr>\n",
       "      <th>46</th>\n",
       "      <td>NaN</td>\n",
       "      <td>Legal and Ethical Aspects of Privacy</td>\n",
       "      <td>HWS</td>\n",
       "      <td>E</td>\n",
       "      <td>3</td>\n",
       "      <td>Responsible Data Science</td>\n",
       "    </tr>\n",
       "    <tr>\n",
       "      <th>47</th>\n",
       "      <td>CS 718</td>\n",
       "      <td>AI and Data Science in Fiction and Society</td>\n",
       "      <td>HWS</td>\n",
       "      <td>E</td>\n",
       "      <td>4</td>\n",
       "      <td>Responsible Data Science</td>\n",
       "    </tr>\n",
       "  </tbody>\n",
       "</table>\n",
       "</div>"
      ],
      "text/plain": [
       "   module_code                                    Name of Module    Offered  \\\n",
       "0       CS 450                                Programming Course        HWS   \n",
       "1       CS 460                               Database Technology        FSS   \n",
       "2       CS 470                        Python for Data Scientists        FSS   \n",
       "3          NaN                             Multivariate Analyses        HWS   \n",
       "4          NaN                    Tutorial Multivariate Analyses        HWS   \n",
       "5          NaN       Empirische Methoden der Politikwissenschaft        HWS   \n",
       "6       AC 651               Additional Course – Data Management    HWS/FSS   \n",
       "7       CS 500                     Advanced Software Engineering        HWS   \n",
       "8       CS 530                               Database Systems II        FSS   \n",
       "9       CS 550                                      Algorithmics    FSS/HWS   \n",
       "10      CS 560                       Large Scale Data Management        HWS   \n",
       "11      CS 600                          Model-driven Development        HWS   \n",
       "12      CS 662                   Types and Programming Languages        HWS   \n",
       "13      IS 540                  Management of Enterprise Systems        HWS   \n",
       "14      IS 556                                Public Blockchains        FSS   \n",
       "15      IE 630                                Query Optimization        FSS   \n",
       "16      IE 650                                  Knowledge Graphs        HWS   \n",
       "17      IE 663              Information Retrieval and Web Search        HWS   \n",
       "18      IE 670                              Web Data Integration        HWS   \n",
       "19      IE 691                     Information Retrieval Project        HWS   \n",
       "20      IE 683                      Web Data Integration Project        HWS   \n",
       "21      AC 652        Additional Course – Data Analytics Methods    HWS/FSS   \n",
       "22      DA 110           Computational Analysis of Communication        HWS   \n",
       "23      IE 500                                     Data Mining I    HWS/FSS   \n",
       "24      IE 560                                  Decision Support        HWS   \n",
       "25      IE 661                                    Text Analytics        HWS   \n",
       "26      IE 671                                        Web Mining        FSS   \n",
       "27      IE 672                                    Data Mining II        FSS   \n",
       "28     IE 675b                                  Machine Learning        HWS   \n",
       "29      IE 676         Network Analysis replaced by IS 622 (FSS)        HWS   \n",
       "30      IE 678                                     Deep Learning        FSS   \n",
       "31      IE 684                                Web Mining Project        FSS   \n",
       "32      IE 692                           Advanced Process Mining        FSS   \n",
       "33      IE 694  Artificial Intelligence Applications in Industry        FSS   \n",
       "34      IE 696                Advanced Methods in Text Analytics        FSS   \n",
       "35      IS 622                                 Network Science**        FSS   \n",
       "36     MAA 519                               Stochastic Calculus        HWS   \n",
       "37     MAB 504                       Mathematics and Information  irregular   \n",
       "38     MAB 508                            Algebraische Statistik  irregular   \n",
       "39     MAC 404                                       Optimierung        HWS   \n",
       "40     MAC 502                             Computational Finance        FSS   \n",
       "41     MAC 507                          Nichtlineare Optimierung        FSS   \n",
       "42     MAC 527                                  Markov Processes        FSS   \n",
       "43     MKT 511                               Marketing Analytics        FSS   \n",
       "44     MKT 545              Customers, Markets and Firm Strategy        FSS   \n",
       "45      CS 652                         Data Security and Privacy        FSS   \n",
       "46         NaN              Legal and Ethical Aspects of Privacy        HWS   \n",
       "47      CS 718        AI and Data Science in Fiction and Society        HWS   \n",
       "\n",
       "   Language     ECTS            moduleCategory  \n",
       "0         E        6              Fundamentals  \n",
       "1         E        6              Fundamentals  \n",
       "2         E        6              Fundamentals  \n",
       "3         E        6              Fundamentals  \n",
       "4         E        2              Fundamentals  \n",
       "5       G/E        6              Fundamentals  \n",
       "6         E  AC 651*           Data Management  \n",
       "7         E        6           Data Management  \n",
       "8         E        6           Data Management  \n",
       "9         E        6           Data Management  \n",
       "10        E        6           Data Management  \n",
       "11        E        6           Data Management  \n",
       "12        E        6           Data Management  \n",
       "13        E        6           Data Management  \n",
       "14        E        3           Data Management  \n",
       "15        E        6           Data Management  \n",
       "16        E        6           Data Management  \n",
       "17        E        3           Data Management  \n",
       "18        E        3           Data Management  \n",
       "19        E        3           Data Management  \n",
       "20        E        3           Data Management  \n",
       "21        E  AC 652*            Data Analytics  \n",
       "22        E        6            Data Analytics  \n",
       "23        E        6            Data Analytics  \n",
       "24        E        6            Data Analytics  \n",
       "25        E        6            Data Analytics  \n",
       "26        E        3            Data Analytics  \n",
       "27        E        6            Data Analytics  \n",
       "28        E        9            Data Analytics  \n",
       "29        E        6            Data Analytics  \n",
       "30        E        6            Data Analytics  \n",
       "31        E        3            Data Analytics  \n",
       "32        E        6            Data Analytics  \n",
       "33        E        6            Data Analytics  \n",
       "34        E        6            Data Analytics  \n",
       "35        E        6            Data Analytics  \n",
       "36        E        5            Data Analytics  \n",
       "37        G        8            Data Analytics  \n",
       "38      G/E        8            Data Analytics  \n",
       "39        G        8            Data Analytics  \n",
       "40      G/E        6            Data Analytics  \n",
       "41      G/E        6            Data Analytics  \n",
       "42        E        4            Data Analytics  \n",
       "43        E        6            Data Analytics  \n",
       "44        E        6            Data Analytics  \n",
       "45        E        6  Responsible Data Science  \n",
       "46        E        3  Responsible Data Science  \n",
       "47        E        4  Responsible Data Science  "
      ]
     },
     "execution_count": 4,
     "metadata": {},
     "output_type": "execute_result"
    }
   ],
   "source": [
    "courses = pd.read_csv('../data/processed/mmds_courses.csv')\n",
    "courses"
   ]
  },
  {
   "cell_type": "markdown",
   "metadata": {},
   "source": [
    "## 2. Data Preprocessing"
   ]
  },
  {
   "cell_type": "markdown",
   "metadata": {},
   "source": [
    "### 2.1 Courses Identification"
   ]
  },
  {
   "cell_type": "markdown",
   "metadata": {},
   "source": [
    "####  MMDS Courses in Bussiness Informatics Catalog"
   ]
  },
  {
   "cell_type": "markdown",
   "metadata": {},
   "source": [
    "MMDS courses found in BI catalog"
   ]
  },
  {
   "cell_type": "code",
   "execution_count": 5,
   "metadata": {
    "scrolled": true
   },
   "outputs": [
    {
     "name": "stdout",
     "output_type": "stream",
     "text": [
      "Index of MMDS courses found in BI catalog: (25)\n",
      " [[2, 'CS 500'], [4, 'CS 530'], [5, 'CS 550'], [8, 'CS 560'], [18, 'CS 600'], [28, 'CS 662'], [30, 'IE 630'], [32, 'IE 650'], [37, 'IE 663'], [39, 'IE 670'], [58, 'IE 691'], [54, 'IE 683'], [10, 'IE 500'], [12, 'IE 560'], [35, 'IE 661'], [41, 'IE 671'], [43, 'IE 672'], [45, 'IE 675b'], [47, 'IE 676'], [49, 'IE 678'], [56, 'IE 684'], [51, 'IE 692'], [60, 'IE 694'], [62, 'IE 696'], [24, 'CS 652']]\n"
     ]
    }
   ],
   "source": [
    "# Find the tables from BI where the information about the MMDS courses is located\n",
    "\n",
    "# Create and index of the found courses and the table where the information is located\n",
    "mask_na = courses.module_code.notna() # Ignore courses without a code (4 courses)\n",
    "courses_ = courses[mask_na].copy()\n",
    "wifo_df_idx = []\n",
    "for item in courses_.module_code:\n",
    "    for idx in range(len(wifo_df)):\n",
    "        if item==wifo_df[idx].columns[0]:\n",
    "            wifo_df_idx.append([idx,item])\n",
    "            break\n",
    "print('Index of MMDS courses found in BI catalog: (%s)\\n'%len (wifo_df_idx), wifo_df_idx)\n",
    "            \n",
    "# List of the MMDS courses found in BI catalog\n",
    "def extract_item(lst):\n",
    "    return [item[1] for item in lst]\n",
    "matched_courses_wifo = extract_item(wifo_df_idx)"
   ]
  },
  {
   "cell_type": "markdown",
   "metadata": {},
   "source": [
    "MMDS courses not found in BI catalog"
   ]
  },
  {
   "cell_type": "code",
   "execution_count": 6,
   "metadata": {},
   "outputs": [
    {
     "name": "stdout",
     "output_type": "stream",
     "text": [
      "List of MMDS courses NOT found in BI catalog: (19)\n",
      " ['CS 450', 'CS 460', 'CS 470', 'AC 651', 'IS 540', 'IS 556', 'AC 652', 'DA 110', 'IS 622', 'MAA 519', 'MAB 504', 'MAB 508', 'MAC 404', 'MAC 502', 'MAC 507', 'MAC 527', 'MKT 511', 'MKT 545', 'CS 718']\n"
     ]
    }
   ],
   "source": [
    "# List of the MMDS courses NOT found in BI catalog\n",
    "unmatched_course_in_wifo = []\n",
    "for item in courses_.module_code:\n",
    "     if item not in matched_courses_wifo:\n",
    "            unmatched_course_in_wifo.append(item)\n",
    "            \n",
    "print('List of MMDS courses NOT found in BI catalog: (%s)\\n'%len (unmatched_course_in_wifo), unmatched_course_in_wifo)"
   ]
  },
  {
   "cell_type": "markdown",
   "metadata": {},
   "source": [
    "####  MMDS Courses in MMDS Catalog"
   ]
  },
  {
   "cell_type": "markdown",
   "metadata": {},
   "source": [
    "MMDS courses found in MMDS catalog"
   ]
  },
  {
   "cell_type": "code",
   "execution_count": 7,
   "metadata": {},
   "outputs": [
    {
     "name": "stdout",
     "output_type": "stream",
     "text": [
      "Index of MMDS courses found in MMDS catalog: (7)\n",
      " [[2, 'CS 450'], [4, 'CS 460'], [6, 'CS 470'], [9, 'AC 651'], [12, 'AC 652'], [13, 'DA 110'], [18, 'CS 718']]\n"
     ]
    }
   ],
   "source": [
    "df_mmds_idx = []\n",
    "for item in unmatched_course_in_wifo:\n",
    "    for idx in range(len(df_mmds)):\n",
    "        if item==df_mmds[idx].columns[0]:\n",
    "            df_mmds_idx.append([idx,item])\n",
    "            break\n",
    "print('Index of MMDS courses found in MMDS catalog: (%s)\\n'%len (df_mmds_idx), df_mmds_idx)\n",
    "\n",
    "# List of the MMDS courses found in MMDS catalog\n",
    "matched_courses_mmds = extract_item(df_mmds_idx)"
   ]
  },
  {
   "cell_type": "markdown",
   "metadata": {},
   "source": [
    "MMDS courses not found in BI or MMDS catalog"
   ]
  },
  {
   "cell_type": "code",
   "execution_count": 8,
   "metadata": {},
   "outputs": [
    {
     "name": "stdout",
     "output_type": "stream",
     "text": [
      "List of MMDS courses NOT found in BI or MMDS catalog: (12)\n",
      " ['IS 540', 'IS 556', 'IS 622', 'MAA 519', 'MAB 504', 'MAB 508', 'MAC 404', 'MAC 502', 'MAC 507', 'MAC 527', 'MKT 511', 'MKT 545']\n"
     ]
    }
   ],
   "source": [
    "# List of the MMDS courses NOT found in MMDS catalog\n",
    "unmatched_course_in_wifo_mmds = []\n",
    "for item in courses_.module_code:\n",
    "     if item not in matched_courses_mmds+matched_courses_wifo:\n",
    "            unmatched_course_in_wifo_mmds.append(item)\n",
    "            \n",
    "print('List of MMDS courses NOT found in BI or MMDS catalog: (%s)\\n'%len (unmatched_course_in_wifo_mmds), unmatched_course_in_wifo_mmds)"
   ]
  },
  {
   "cell_type": "markdown",
   "metadata": {},
   "source": [
    "### 2.2 Extraction of Courses Metadata from BI Catalog"
   ]
  },
  {
   "cell_type": "markdown",
   "metadata": {},
   "source": [
    "#### Tables that are the start of courses metadata\n",
    "Create list with tables that are the start of courses tables"
   ]
  },
  {
   "cell_type": "code",
   "execution_count": 9,
   "metadata": {
    "scrolled": true
   },
   "outputs": [
    {
     "name": "stdout",
     "output_type": "stream",
     "text": [
      "List of table indexes of BI that are courses: (46)\n",
      " [2, 4, 5, 8, 10, 12, 18, 20, 22, 24, 26, 28, 30, 32, 35, 37, 39, 41, 43, 45, 47, 49, 51, 54, 56, 58, 60, 62, 64, 68, 71, 73, 75, 77, 79, 81, 83, 85, 87, 89, 91, 93, 95, 97, 99, 101]\n"
     ]
    }
   ],
   "source": [
    "# List of table indexes that are the start of a metadata tables of courses \n",
    "course_idx = []\n",
    "for idx in range(len(wifo_df)):\n",
    "    if bool(re.search('^[a-zA-Z]{1,3} ',wifo_df[idx].columns[0])):\n",
    "        course_idx.append(idx)\n",
    "print('List of table indexes of BI that are courses: (%s)\\n'%len(course_idx), course_idx)"
   ]
  },
  {
   "cell_type": "markdown",
   "metadata": {},
   "source": [
    "Fix format of tables with more than 2 columns"
   ]
  },
  {
   "cell_type": "code",
   "execution_count": 10,
   "metadata": {},
   "outputs": [
    {
     "name": "stdout",
     "output_type": "stream",
     "text": [
      "List of table indexes with more than 2 columns: \n",
      " [2, 5, 20, 24, 95, 97]\n"
     ]
    }
   ],
   "source": [
    "# List of tables with more than 2 columns ('Unnamed')\n",
    "three_column_courses = []\n",
    "for item in course_idx:\n",
    "    if len(wifo_df[item].columns)>2:\n",
    "        three_column_courses.append(item)\n",
    "print('List of table indexes with more than 2 columns: \\n', three_column_courses)\n",
    "\n",
    "\n",
    "# Dropping extra columns from the tables that are in three_column_courses\n",
    "drop_columns = ['Unnamed: 0','Unnamed: 1','Unnamed: 2']\n",
    "for idx in three_column_courses:\n",
    "    wifo_df[idx] = wifo_df[idx].loc[:,~wifo_df[idx].columns.isin(drop_columns)].copy()\n",
    "\n",
    "# wifo_df[5].head() --- to validate if it work"
   ]
  },
  {
   "cell_type": "markdown",
   "metadata": {},
   "source": [
    "Delete tables with just 1 column"
   ]
  },
  {
   "cell_type": "code",
   "execution_count": 11,
   "metadata": {},
   "outputs": [
    {
     "name": "stdout",
     "output_type": "stream",
     "text": [
      "List of table indexes with just 1 column: \n",
      " [22]\n"
     ]
    }
   ],
   "source": [
    "# List of tables with just 1 column\n",
    "one_column_courses = []\n",
    "for item in course_idx:\n",
    "    if len(wifo_df[item].columns)==1:\n",
    "        one_column_courses.append(item)\n",
    "print('List of table indexes with just 1 column: \\n', one_column_courses)\n",
    "\n",
    "# Remove the 22 idx from course index (not a course from mmds)\n",
    "course_idx.remove(22)"
   ]
  },
  {
   "cell_type": "markdown",
   "metadata": {},
   "source": [
    "Final list with tables that are the start of courses tables"
   ]
  },
  {
   "cell_type": "code",
   "execution_count": 12,
   "metadata": {},
   "outputs": [
    {
     "name": "stdout",
     "output_type": "stream",
     "text": [
      "List of table indexes of BI that are courses: (45)\n",
      " [2, 4, 5, 8, 10, 12, 18, 20, 24, 26, 28, 30, 32, 35, 37, 39, 41, 43, 45, 47, 49, 51, 54, 56, 58, 60, 62, 64, 68, 71, 73, 75, 77, 79, 81, 83, 85, 87, 89, 91, 93, 95, 97, 99, 101]\n"
     ]
    }
   ],
   "source": [
    "print('List of table indexes of BI that are courses: (%s)\\n'%len(course_idx), course_idx)"
   ]
  },
  {
   "cell_type": "markdown",
   "metadata": {},
   "source": [
    "#### Tables that are not the start of courses metadata\n",
    "Create list with tables that are not the start of courses tables"
   ]
  },
  {
   "cell_type": "code",
   "execution_count": 13,
   "metadata": {
    "scrolled": true
   },
   "outputs": [
    {
     "name": "stdout",
     "output_type": "stream",
     "text": [
      "List of table indexes of BI that are not courses: (57)\n",
      " [0, 1, 3, 6, 7, 9, 11, 13, 14, 15, 16, 17, 19, 21, 23, 25, 27, 29, 31, 33, 34, 36, 38, 40, 42, 44, 46, 48, 50, 52, 53, 55, 57, 59, 61, 63, 65, 66, 67, 69, 70, 72, 74, 76, 78, 80, 82, 84, 86, 88, 90, 92, 94, 96, 98, 100, 102]\n"
     ]
    }
   ],
   "source": [
    "# List of table indexes that are not the start of a metadata tables of courses \n",
    "non_course_idx = []\n",
    "for idx in range(len(wifo_df)):\n",
    "    if not bool(re.search('^[a-zA-Z]{1,3} ',wifo_df[idx].columns[0])):\n",
    "        non_course_idx.append(idx)\n",
    "print('List of table indexes of BI that are not courses: (%s)\\n'%len(non_course_idx), non_course_idx)"
   ]
  },
  {
   "cell_type": "markdown",
   "metadata": {},
   "source": [
    "Fix format of tables with more than 2 columns, and delete tables without courses' detail"
   ]
  },
  {
   "cell_type": "code",
   "execution_count": 14,
   "metadata": {},
   "outputs": [
    {
     "name": "stdout",
     "output_type": "stream",
     "text": [
      "List of table indexes with more than 2 columns: \n",
      " [0, 1, 6, 11, 14, 15, 16, 17, 19, 25, 33, 38, 50, 59, 61, 65, 66, 67, 72, 74, 80, 82, 84, 94, 96, 100]\n"
     ]
    }
   ],
   "source": [
    "# List of tables with more than 2 columns ('Unnamed')\n",
    "three_column_non_courses = []\n",
    "for item in non_course_idx:\n",
    "    if len(wifo_df[item].columns)>2:\n",
    "        three_column_non_courses.append(item)\n",
    "print('List of table indexes with more than 2 columns: \\n', three_column_non_courses)\n"
   ]
  },
  {
   "cell_type": "code",
   "execution_count": 15,
   "metadata": {},
   "outputs": [],
   "source": [
    "# Handling the data frames with more thant 3 columns\n",
    "remove_non_course_idx = [0,1,14,15,16,17,65,66,67] # remove 0,1,14,15,16,17,65,66,67 indexes\n",
    "for i in remove_non_course_idx:\n",
    "    three_column_non_courses.remove(i)\n",
    "    non_course_idx.remove(i)\n",
    "    \n",
    "for idx in three_column_non_courses:\n",
    "    wifo_df[idx] = wifo_df[idx].loc[:,wifo_df[idx].columns[0:2]].copy()"
   ]
  },
  {
   "cell_type": "markdown",
   "metadata": {},
   "source": [
    "Check tables with just 1 column"
   ]
  },
  {
   "cell_type": "code",
   "execution_count": 16,
   "metadata": {},
   "outputs": [
    {
     "name": "stdout",
     "output_type": "stream",
     "text": [
      "List of table indexes with just 1 column:\n",
      " []\n"
     ]
    }
   ],
   "source": [
    "# List of tables with just 1 column\n",
    "one_column_non_courses = []\n",
    "for item in non_course_idx:\n",
    "    if len(wifo_df[item].columns)==1:\n",
    "        one_column_non_courses.append(item)\n",
    "print('List of table indexes with just 1 column:\\n', one_column_non_courses)\n"
   ]
  },
  {
   "cell_type": "markdown",
   "metadata": {},
   "source": [
    "Final list with tables that are not the start of courses tables"
   ]
  },
  {
   "cell_type": "code",
   "execution_count": 17,
   "metadata": {},
   "outputs": [
    {
     "name": "stdout",
     "output_type": "stream",
     "text": [
      "List of table indexes of BI that are not courses: (48)\n",
      " [3, 6, 7, 9, 11, 13, 19, 21, 23, 25, 27, 29, 31, 33, 34, 36, 38, 40, 42, 44, 46, 48, 50, 52, 53, 55, 57, 59, 61, 63, 69, 70, 72, 74, 76, 78, 80, 82, 84, 86, 88, 90, 92, 94, 96, 98, 100, 102]\n"
     ]
    }
   ],
   "source": [
    "print('List of table indexes of BI that are not courses: (%s)\\n'%len(non_course_idx), non_course_idx)"
   ]
  },
  {
   "cell_type": "markdown",
   "metadata": {},
   "source": [
    "### 2.3 Build the Metadata Dataset from MMDS Courses from BI Catalog"
   ]
  },
  {
   "cell_type": "markdown",
   "metadata": {},
   "source": [
    "Join the frames that contain metadata about the MMDS courses"
   ]
  },
  {
   "cell_type": "code",
   "execution_count": 18,
   "metadata": {},
   "outputs": [
    {
     "name": "stdout",
     "output_type": "stream",
     "text": [
      "2\n",
      "-- 3\n",
      "appended\n",
      "4\n",
      "appended\n",
      "5\n",
      "-- 6\n",
      "-- 7\n",
      "appended\n",
      "8\n",
      "-- 9\n",
      "appended\n",
      "10\n",
      "-- 11\n",
      "appended\n",
      "12\n",
      "-- 13\n",
      "appended\n",
      "18\n",
      "-- 19\n",
      "appended\n",
      "20\n",
      "-- 21\n",
      "-- 23\n",
      "appended\n",
      "24\n",
      "-- 25\n",
      "appended\n",
      "26\n",
      "-- 27\n",
      "appended\n",
      "28\n",
      "-- 29\n",
      "appended\n",
      "30\n",
      "-- 31\n",
      "appended\n",
      "32\n",
      "-- 33\n",
      "-- 34\n",
      "appended\n",
      "35\n",
      "-- 36\n",
      "appended\n",
      "37\n",
      "-- 38\n",
      "appended\n",
      "39\n",
      "-- 40\n",
      "appended\n",
      "41\n",
      "-- 42\n",
      "appended\n",
      "43\n",
      "-- 44\n",
      "appended\n",
      "45\n",
      "-- 46\n",
      "appended\n",
      "47\n",
      "-- 48\n",
      "appended\n",
      "49\n",
      "-- 50\n",
      "appended\n",
      "51\n",
      "-- 52\n",
      "-- 53\n",
      "appended\n",
      "54\n",
      "-- 55\n",
      "appended\n",
      "56\n",
      "-- 57\n",
      "appended\n",
      "58\n",
      "-- 59\n",
      "appended\n",
      "60\n",
      "-- 61\n",
      "appended\n",
      "62\n",
      "-- 63\n",
      "appended\n",
      "64\n",
      "appended\n",
      "68\n",
      "-- 69\n",
      "-- 70\n",
      "appended\n",
      "71\n",
      "-- 72\n",
      "appended\n",
      "73\n",
      "-- 74\n",
      "appended\n",
      "75\n",
      "-- 76\n",
      "appended\n",
      "77\n",
      "-- 78\n",
      "appended\n",
      "79\n",
      "-- 80\n",
      "appended\n",
      "81\n",
      "-- 82\n",
      "appended\n",
      "83\n",
      "-- 84\n",
      "appended\n",
      "85\n",
      "-- 86\n",
      "appended\n",
      "87\n",
      "-- 88\n",
      "appended\n",
      "89\n",
      "-- 90\n",
      "appended\n",
      "91\n",
      "-- 92\n",
      "appended\n",
      "93\n",
      "-- 94\n",
      "appended\n",
      "95\n",
      "-- 96\n",
      "appended\n",
      "97\n",
      "-- 98\n",
      "appended\n",
      "99\n",
      "-- 100\n",
      "appended\n",
      "101\n",
      "-- 102\n",
      "appended\n"
     ]
    }
   ],
   "source": [
    "#Desired output with data frame\n",
    "final_columns = ['module_code','module_name','property','property_value']\n",
    "final_wifo_frame = pd.DataFrame(columns=final_columns)\n",
    "\n",
    "#1st loop to append the consider course frames\n",
    "for idx in range(len(course_idx)):\n",
    "    course_frame = wifo_df[course_idx[idx]].copy()\n",
    "    course_name = wifo_df[course_idx[idx]].columns[1]\n",
    "    course_code = wifo_df[course_idx[idx]].columns[0]\n",
    "    course_frame.columns = final_columns[2:]\n",
    "    print(course_idx[idx])\n",
    "    #if not last course\n",
    "    if (idx+1)<len(course_idx):\n",
    "        #2nd for loop to append the non course frames\n",
    "        for nc_idx in non_course_idx:\n",
    "            if (nc_idx>course_idx[idx]) & (nc_idx<course_idx[idx+1]):\n",
    "                intermediate_frame = wifo_df[nc_idx].copy()\n",
    "                intermediate_frame.columns = final_columns[2:]\n",
    "                course_frame = pd.concat([course_frame,intermediate_frame],ignore_index = True)\n",
    "                print('--',nc_idx)\n",
    "    \n",
    "    #for last course    \n",
    "    else:\n",
    "        for nc_idx in non_course_idx:\n",
    "            if (nc_idx>course_idx[idx]):\n",
    "                intermediate_frame = wifo_df[nc_idx].copy()\n",
    "                intermediate_frame.columns = final_columns[2:]\n",
    "                course_frame = pd.concat([course_frame,intermediate_frame],ignore_index = True)\n",
    "                print('--',nc_idx)\n",
    "    course_frame['module_code'] = course_code\n",
    "    course_frame['module_name'] = course_name\n",
    "    final_wifo_frame = pd.concat([final_wifo_frame,course_frame])\n",
    "    print('appended')"
   ]
  },
  {
   "cell_type": "code",
   "execution_count": 19,
   "metadata": {},
   "outputs": [
    {
     "data": {
      "text/html": [
       "<div>\n",
       "<style scoped>\n",
       "    .dataframe tbody tr th:only-of-type {\n",
       "        vertical-align: middle;\n",
       "    }\n",
       "\n",
       "    .dataframe tbody tr th {\n",
       "        vertical-align: top;\n",
       "    }\n",
       "\n",
       "    .dataframe thead th {\n",
       "        text-align: right;\n",
       "    }\n",
       "</style>\n",
       "<table border=\"1\" class=\"dataframe\">\n",
       "  <thead>\n",
       "    <tr style=\"text-align: right;\">\n",
       "      <th></th>\n",
       "      <th>module_code</th>\n",
       "      <th>module_name</th>\n",
       "      <th>property</th>\n",
       "      <th>property_value</th>\n",
       "    </tr>\n",
       "  </thead>\n",
       "  <tbody>\n",
       "    <tr>\n",
       "      <th>0</th>\n",
       "      <td>CS 500</td>\n",
       "      <td>Advanced Software Engineering</td>\n",
       "      <td>Form of module</td>\n",
       "      <td>Lectures and accompanying tutorials</td>\n",
       "    </tr>\n",
       "    <tr>\n",
       "      <th>1</th>\n",
       "      <td>CS 500</td>\n",
       "      <td>Advanced Software Engineering</td>\n",
       "      <td>Type of module</td>\n",
       "      <td>Computer Science Fundamental</td>\n",
       "    </tr>\n",
       "    <tr>\n",
       "      <th>2</th>\n",
       "      <td>CS 500</td>\n",
       "      <td>Advanced Software Engineering</td>\n",
       "      <td>Level</td>\n",
       "      <td>Master</td>\n",
       "    </tr>\n",
       "    <tr>\n",
       "      <th>3</th>\n",
       "      <td>CS 500</td>\n",
       "      <td>Advanced Software Engineering</td>\n",
       "      <td>ECTS</td>\n",
       "      <td>6</td>\n",
       "    </tr>\n",
       "    <tr>\n",
       "      <th>4</th>\n",
       "      <td>CS 500</td>\n",
       "      <td>Advanced Software Engineering</td>\n",
       "      <td>NaN</td>\n",
       "      <td>Hours per semester present: 56 h (4 SWS)</td>\n",
       "    </tr>\n",
       "  </tbody>\n",
       "</table>\n",
       "</div>"
      ],
      "text/plain": [
       "  module_code                    module_name        property  \\\n",
       "0      CS 500  Advanced Software Engineering  Form of module   \n",
       "1      CS 500  Advanced Software Engineering  Type of module   \n",
       "2      CS 500  Advanced Software Engineering           Level   \n",
       "3      CS 500  Advanced Software Engineering            ECTS   \n",
       "4      CS 500  Advanced Software Engineering             NaN   \n",
       "\n",
       "                             property_value  \n",
       "0       Lectures and accompanying tutorials  \n",
       "1              Computer Science Fundamental  \n",
       "2                                    Master  \n",
       "3                                         6  \n",
       "4  Hours per semester present: 56 h (4 SWS)  "
      ]
     },
     "metadata": {},
     "output_type": "display_data"
    },
    {
     "name": "stdout",
     "output_type": "stream",
     "text": [
      "Size final_wifo_frame:  2106\n"
     ]
    }
   ],
   "source": [
    "display(final_wifo_frame.head())\n",
    "print ('Size final_wifo_frame: ',len(final_wifo_frame))"
   ]
  },
  {
   "cell_type": "markdown",
   "metadata": {},
   "source": [
    "### 2.4 Extraction of Courses Metadata from MMDS Catalog"
   ]
  },
  {
   "cell_type": "markdown",
   "metadata": {},
   "source": [
    "#### Tables that are the start of courses metadata\n",
    "Create list with tables that are the start of courses tables"
   ]
  },
  {
   "cell_type": "code",
   "execution_count": 20,
   "metadata": {},
   "outputs": [
    {
     "name": "stdout",
     "output_type": "stream",
     "text": [
      "List of table indexes of MMDS that are courses: (8)\n",
      " [2, 4, 6, 9, 12, 13, 18, 21]\n"
     ]
    }
   ],
   "source": [
    "# List of table indexes that are the start of a metadata tables of courses \n",
    "course_idx = []\n",
    "for idx in range(len(df_mmds)):\n",
    "    if bool(re.search('^[a-zA-Z]{1,3} ',df_mmds[idx].columns[0])):\n",
    "        course_idx.append(idx)\n",
    "print('List of table indexes of MMDS that are courses: (%s)\\n'%len(course_idx), course_idx)"
   ]
  },
  {
   "cell_type": "markdown",
   "metadata": {},
   "source": [
    "Fix format of tables with more than 2 columns"
   ]
  },
  {
   "cell_type": "code",
   "execution_count": 21,
   "metadata": {},
   "outputs": [
    {
     "name": "stdout",
     "output_type": "stream",
     "text": [
      "List of table indexes with more than 2 columns: \n",
      " [2, 4]\n"
     ]
    }
   ],
   "source": [
    "# List of tables with more than 2 columns ('Unnamed')\n",
    "three_column_courses = []\n",
    "for item in course_idx:\n",
    "    if len(df_mmds[item].columns)>2:\n",
    "        three_column_courses.append(item)\n",
    "print('List of table indexes with more than 2 columns: \\n', three_column_courses)\n",
    "\n",
    "\n",
    "# Dropping extra columns from the tables that are in three_column_courses\n",
    "drop_columns = ['Unnamed: 0','Unnamed: 1','Unnamed: 2']\n",
    "for idx in three_column_courses:\n",
    "    df_mmds[idx] = df_mmds[idx].loc[:,~df_mmds[idx].columns.isin(drop_columns)].copy()\n"
   ]
  },
  {
   "cell_type": "markdown",
   "metadata": {},
   "source": [
    "Check tables with just 1 column"
   ]
  },
  {
   "cell_type": "code",
   "execution_count": 22,
   "metadata": {},
   "outputs": [
    {
     "name": "stdout",
     "output_type": "stream",
     "text": [
      "List of table indexes with just 1 column: \n",
      " []\n"
     ]
    }
   ],
   "source": [
    "# List of tables with just 1 column\n",
    "one_column_courses = []\n",
    "for item in course_idx:\n",
    "    if len(df_mmds[item].columns)==1:\n",
    "        one_column_courses.append(item)\n",
    "print('List of table indexes with just 1 column: \\n', one_column_courses)"
   ]
  },
  {
   "cell_type": "markdown",
   "metadata": {},
   "source": [
    "Final list with tables that are the start of courses tables"
   ]
  },
  {
   "cell_type": "code",
   "execution_count": 23,
   "metadata": {},
   "outputs": [
    {
     "name": "stdout",
     "output_type": "stream",
     "text": [
      "List of table indexes of MMDS that are courses: (8)\n",
      " [2, 4, 6, 9, 12, 13, 18, 21]\n"
     ]
    }
   ],
   "source": [
    "print('List of table indexes of MMDS that are courses: (%s)\\n'%len(course_idx), course_idx)"
   ]
  },
  {
   "cell_type": "markdown",
   "metadata": {},
   "source": [
    "#### Tables that are not the start of courses metadata\n",
    "Create list with tables that are not the start of courses tables"
   ]
  },
  {
   "cell_type": "code",
   "execution_count": 24,
   "metadata": {},
   "outputs": [
    {
     "name": "stdout",
     "output_type": "stream",
     "text": [
      "List of table indexes of MMDS that are not courses: (18)\n",
      " [0, 1, 3, 5, 7, 8, 10, 11, 14, 15, 16, 17, 19, 20, 22, 23, 24, 25]\n"
     ]
    }
   ],
   "source": [
    "# List of table indexes that are not the start of a metadata tables of courses \n",
    "non_course_idx = []\n",
    "for idx in range(len(df_mmds)):\n",
    "    if not bool(re.search('^[a-zA-Z]{1,3} ',df_mmds[idx].columns[0])):\n",
    "        non_course_idx.append(idx)\n",
    "print('List of table indexes of MMDS that are not courses: (%s)\\n'%len(non_course_idx), non_course_idx)"
   ]
  },
  {
   "cell_type": "markdown",
   "metadata": {},
   "source": [
    "Fix format of tables with more than 2 columns, and delete tables without courses' detail"
   ]
  },
  {
   "cell_type": "code",
   "execution_count": 25,
   "metadata": {},
   "outputs": [
    {
     "name": "stdout",
     "output_type": "stream",
     "text": [
      "List of table indexes with more than 2 columns: \n",
      " [0, 1, 8, 10, 11, 15, 16, 17, 20, 22]\n"
     ]
    }
   ],
   "source": [
    "# List of tables with more than 2 columns ('Unnamed')\n",
    "three_column_non_courses = []\n",
    "for item in non_course_idx:\n",
    "    if len(df_mmds[item].columns)>2:\n",
    "        three_column_non_courses.append(item)\n",
    "print('List of table indexes with more than 2 columns: \\n', three_column_non_courses)\n"
   ]
  },
  {
   "cell_type": "code",
   "execution_count": 26,
   "metadata": {},
   "outputs": [],
   "source": [
    "# Handling the data frames with more thant 3 columns\n",
    "remove_non_course_idx = [0,1,8,10,15,20] # remove 0,1,8,10,15,20 indexes\n",
    "for i in remove_non_course_idx:\n",
    "    three_column_non_courses.remove(i)\n",
    "    non_course_idx.remove(i)\n",
    "    \n",
    "for idx in three_column_non_courses:\n",
    "    df_mmds[idx] = df_mmds[idx].loc[:,df_mmds[idx].columns[0:2]].copy()"
   ]
  },
  {
   "cell_type": "markdown",
   "metadata": {},
   "source": [
    "Check tables with just 1 column"
   ]
  },
  {
   "cell_type": "code",
   "execution_count": 27,
   "metadata": {},
   "outputs": [
    {
     "name": "stdout",
     "output_type": "stream",
     "text": [
      "List of table indexes with just 1 column:\n",
      " []\n"
     ]
    }
   ],
   "source": [
    "# List of tables with just 1 column\n",
    "one_column_non_courses = []\n",
    "for item in non_course_idx:\n",
    "    if len(df_mmds[item].columns)==1:\n",
    "        one_column_non_courses.append(item)\n",
    "print('List of table indexes with just 1 column:\\n', one_column_non_courses)\n"
   ]
  },
  {
   "cell_type": "markdown",
   "metadata": {},
   "source": [
    "Final list with tables that are not the start of courses tables"
   ]
  },
  {
   "cell_type": "code",
   "execution_count": 28,
   "metadata": {},
   "outputs": [
    {
     "name": "stdout",
     "output_type": "stream",
     "text": [
      "List of table indexes of MMDS that are not courses: (12)\n",
      " [3, 5, 7, 11, 14, 16, 17, 19, 22, 23, 24, 25]\n"
     ]
    }
   ],
   "source": [
    "print('List of table indexes of MMDS that are not courses: (%s)\\n'%len(non_course_idx), non_course_idx)"
   ]
  },
  {
   "cell_type": "markdown",
   "metadata": {},
   "source": [
    "### 2.5 Build the Metadata Dataset from MMDS Courses from MMDS Catalog"
   ]
  },
  {
   "cell_type": "markdown",
   "metadata": {},
   "source": [
    "Join the frames that contain metadata about the MMDS courses"
   ]
  },
  {
   "cell_type": "code",
   "execution_count": 29,
   "metadata": {
    "scrolled": true
   },
   "outputs": [
    {
     "name": "stdout",
     "output_type": "stream",
     "text": [
      "2\n",
      "-- 3\n",
      "appended\n",
      "4\n",
      "-- 5\n",
      "appended\n",
      "6\n",
      "-- 7\n",
      "appended\n",
      "9\n",
      "-- 11\n",
      "appended\n",
      "12\n",
      "appended\n",
      "13\n",
      "-- 14\n",
      "-- 16\n",
      "-- 17\n",
      "appended\n",
      "18\n",
      "-- 19\n",
      "appended\n",
      "21\n",
      "-- 22\n",
      "-- 23\n",
      "-- 24\n",
      "-- 25\n",
      "appended\n"
     ]
    }
   ],
   "source": [
    "#Desired output with data frame\n",
    "final_columns = ['module_code','module_name','property','property_value']\n",
    "final_mmds_frame = pd.DataFrame(columns=final_columns)\n",
    "\n",
    "#1st loop to append the consider course frames\n",
    "for idx in range(len(course_idx)):\n",
    "    course_frame = df_mmds[course_idx[idx]].copy()\n",
    "    course_name = df_mmds[course_idx[idx]].columns[1]\n",
    "    course_code = df_mmds[course_idx[idx]].columns[0]\n",
    "    course_frame.columns = final_columns[2:]\n",
    "    print(course_idx[idx])\n",
    "    #if not last course\n",
    "    if (idx+1)<len(course_idx):\n",
    "        #2nd for loop to append the non course frames\n",
    "        for nc_idx in non_course_idx:\n",
    "            if (nc_idx>course_idx[idx]) & (nc_idx<course_idx[idx+1]):\n",
    "                intermediate_frame = df_mmds[nc_idx].copy()\n",
    "                intermediate_frame.columns = final_columns[2:]\n",
    "                course_frame = pd.concat([course_frame,intermediate_frame],ignore_index = True)\n",
    "                print('--',nc_idx)\n",
    "    \n",
    "    #for last course    \n",
    "    else:\n",
    "        for nc_idx in non_course_idx:\n",
    "            if (nc_idx>course_idx[idx]):\n",
    "                intermediate_frame = df_mmds[nc_idx].copy()\n",
    "                intermediate_frame.columns = final_columns[2:]\n",
    "                course_frame = pd.concat([course_frame,intermediate_frame],ignore_index = True)\n",
    "                print('--',nc_idx)\n",
    "    course_frame['module_code'] = course_code\n",
    "    course_frame['module_name'] = course_name\n",
    "    final_mmds_frame = pd.concat([final_mmds_frame,course_frame])\n",
    "    print('appended')"
   ]
  },
  {
   "cell_type": "code",
   "execution_count": 30,
   "metadata": {},
   "outputs": [
    {
     "data": {
      "text/html": [
       "<div>\n",
       "<style scoped>\n",
       "    .dataframe tbody tr th:only-of-type {\n",
       "        vertical-align: middle;\n",
       "    }\n",
       "\n",
       "    .dataframe tbody tr th {\n",
       "        vertical-align: top;\n",
       "    }\n",
       "\n",
       "    .dataframe thead th {\n",
       "        text-align: right;\n",
       "    }\n",
       "</style>\n",
       "<table border=\"1\" class=\"dataframe\">\n",
       "  <thead>\n",
       "    <tr style=\"text-align: right;\">\n",
       "      <th></th>\n",
       "      <th>module_code</th>\n",
       "      <th>module_name</th>\n",
       "      <th>property</th>\n",
       "      <th>property_value</th>\n",
       "    </tr>\n",
       "  </thead>\n",
       "  <tbody>\n",
       "    <tr>\n",
       "      <th>0</th>\n",
       "      <td>CS 450</td>\n",
       "      <td>Programming Course</td>\n",
       "      <td>Form of module</td>\n",
       "      <td>Lecture and accompanying practical sessions</td>\n",
       "    </tr>\n",
       "    <tr>\n",
       "      <th>1</th>\n",
       "      <td>CS 450</td>\n",
       "      <td>Programming Course</td>\n",
       "      <td>Type of module</td>\n",
       "      <td>Computer Science Fundamental</td>\n",
       "    </tr>\n",
       "    <tr>\n",
       "      <th>2</th>\n",
       "      <td>CS 450</td>\n",
       "      <td>Programming Course</td>\n",
       "      <td>Level</td>\n",
       "      <td>Master</td>\n",
       "    </tr>\n",
       "    <tr>\n",
       "      <th>3</th>\n",
       "      <td>CS 450</td>\n",
       "      <td>Programming Course</td>\n",
       "      <td>ECTS</td>\n",
       "      <td>6</td>\n",
       "    </tr>\n",
       "    <tr>\n",
       "      <th>4</th>\n",
       "      <td>CS 450</td>\n",
       "      <td>Programming Course</td>\n",
       "      <td>NaN</td>\n",
       "      <td>Hours per semester present: 84h (6 SWS)</td>\n",
       "    </tr>\n",
       "  </tbody>\n",
       "</table>\n",
       "</div>"
      ],
      "text/plain": [
       "  module_code         module_name        property  \\\n",
       "0      CS 450  Programming Course  Form of module   \n",
       "1      CS 450  Programming Course  Type of module   \n",
       "2      CS 450  Programming Course           Level   \n",
       "3      CS 450  Programming Course            ECTS   \n",
       "4      CS 450  Programming Course             NaN   \n",
       "\n",
       "                                property_value  \n",
       "0  Lecture and accompanying practical sessions  \n",
       "1                 Computer Science Fundamental  \n",
       "2                                       Master  \n",
       "3                                            6  \n",
       "4      Hours per semester present: 84h (6 SWS)  "
      ]
     },
     "metadata": {},
     "output_type": "display_data"
    },
    {
     "name": "stdout",
     "output_type": "stream",
     "text": [
      "Size final_wifo_frame:  392\n"
     ]
    }
   ],
   "source": [
    "display(final_mmds_frame.head())\n",
    "print ('Size final_wifo_frame: ',len(final_mmds_frame))"
   ]
  },
  {
   "cell_type": "markdown",
   "metadata": {},
   "source": [
    "### 2.5 Combine MMDS Courses from MMDS Catalog and BI Catalog"
   ]
  },
  {
   "cell_type": "markdown",
   "metadata": {},
   "source": [
    "Construct a df with all the triples necessary for the KG proposed."
   ]
  },
  {
   "cell_type": "code",
   "execution_count": 31,
   "metadata": {},
   "outputs": [
    {
     "name": "stdout",
     "output_type": "stream",
     "text": [
      "Size final_frame:  2498\n",
      "Size mmds_course_data:  1502\n",
      "Size mmds_course_data_grouped:  737\n"
     ]
    }
   ],
   "source": [
    "final_frame = pd.concat([final_wifo_frame,final_mmds_frame])\n",
    "print ('Size final_frame: ',len(final_frame))\n",
    "\n",
    "# Keep just courses with code\n",
    "mask_mmds_courses = final_frame.module_code.isin(list(courses_.module_code))\n",
    "mmds_course_data = final_frame[mask_mmds_courses].copy()\n",
    "\n",
    "# Fill nan of property\n",
    "mmds_course_data['property'].ffill(axis=0, inplace=True)\n",
    "\n",
    "# Dropping duplicate records\n",
    "mmds_course_data.drop_duplicates(inplace=True)\n",
    "print ('Size mmds_course_data: ',len(mmds_course_data))\n",
    "\n",
    "# Grouping the property value\n",
    "mmds_course_data.property_value = mmds_course_data.property_value.astype(str)\n",
    "mmds_course_data_grouped = mmds_course_data.groupby(['module_code','module_name','property'])['property_value'].apply(lambda x: ','.join(x)).reset_index().copy()\n",
    "\n",
    "#removing '\\r' from the data\n",
    "mask_r = mmds_course_data_grouped['property'].str.contains('\\r')\n",
    "features = list(mmds_course_data_grouped.columns)\n",
    "for col in features:\n",
    "    mask_r = mmds_course_data_grouped[col].str.contains('\\r')\n",
    "    mmds_course_data_grouped.loc[mask_r,col] = mmds_course_data_grouped.loc[mask_r,col].str.replace('\\r',' ')\n",
    "mmds_course_data_grouped[mask_r]\n",
    "print ('Size mmds_course_data_grouped: ',len(mmds_course_data_grouped))\n"
   ]
  },
  {
   "cell_type": "markdown",
   "metadata": {},
   "source": [
    "## 3. Save MMDS_Courses_Data"
   ]
  },
  {
   "cell_type": "code",
   "execution_count": 32,
   "metadata": {},
   "outputs": [],
   "source": [
    "# Save file\n",
    "mmds_course_data_grouped.to_csv('../data/processed/mmds_courses_data.csv',index=False)"
   ]
  }
 ],
 "metadata": {
  "kernelspec": {
   "display_name": "Python 3",
   "language": "python",
   "name": "python3"
  },
  "language_info": {
   "codemirror_mode": {
    "name": "ipython",
    "version": 3
   },
   "file_extension": ".py",
   "mimetype": "text/x-python",
   "name": "python",
   "nbconvert_exporter": "python",
   "pygments_lexer": "ipython3",
   "version": "3.8.5"
  }
 },
 "nbformat": 4,
 "nbformat_minor": 5
}
